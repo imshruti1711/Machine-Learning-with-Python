{
 "cells": [
  {
   "cell_type": "code",
   "execution_count": 1,
   "metadata": {},
   "outputs": [],
   "source": [
    "import pandas as pd\n",
    "import numpy as np\n",
    "import seaborn as sns\n",
    "import matplotlib.pyplot as plt"
   ]
  },
  {
   "cell_type": "code",
   "execution_count": 2,
   "metadata": {},
   "outputs": [],
   "source": [
    "data=pd.read_excel('default of credit card clients.xls')"
   ]
  },
  {
   "cell_type": "code",
   "execution_count": 4,
   "metadata": {},
   "outputs": [
    {
     "data": {
      "text/plain": [
       "Index(['ID', 'LIMIT_BAL', 'SEX', 'EDUCATION', 'MARRIAGE', 'AGE', 'PAY_0',\n",
       "       'PAY_2', 'PAY_3', 'PAY_4', 'PAY_5', 'PAY_6', 'BILL_AMT1', 'BILL_AMT2',\n",
       "       'BILL_AMT3', 'BILL_AMT4', 'BILL_AMT5', 'BILL_AMT6', 'PAY_AMT1',\n",
       "       'PAY_AMT2', 'PAY_AMT3', 'PAY_AMT4', 'PAY_AMT5', 'PAY_AMT6',\n",
       "       'default payment next month'],\n",
       "      dtype='object')"
      ]
     },
     "execution_count": 4,
     "metadata": {},
     "output_type": "execute_result"
    }
   ],
   "source": [
    "data.columns"
   ]
  },
  {
   "cell_type": "code",
   "execution_count": 5,
   "metadata": {},
   "outputs": [],
   "source": [
    "data.drop(['ID'],axis=1,inplace=True)"
   ]
  },
  {
   "cell_type": "code",
   "execution_count": 6,
   "metadata": {},
   "outputs": [
    {
     "data": {
      "text/plain": [
       "(30000, 24)"
      ]
     },
     "execution_count": 6,
     "metadata": {},
     "output_type": "execute_result"
    }
   ],
   "source": [
    "data.shape"
   ]
  },
  {
   "cell_type": "code",
   "execution_count": 136,
   "metadata": {},
   "outputs": [
    {
     "data": {
      "text/plain": [
       "LIMIT_BAL                     int64\n",
       "SEX                           int64\n",
       "EDUCATION                     int64\n",
       "MARRIAGE                      int64\n",
       "AGE                           int64\n",
       "PAY_0                         int64\n",
       "PAY_2                         int64\n",
       "PAY_3                         int64\n",
       "PAY_4                         int64\n",
       "PAY_5                         int64\n",
       "PAY_6                         int64\n",
       "BILL_AMT1                     int64\n",
       "BILL_AMT2                     int64\n",
       "BILL_AMT3                     int64\n",
       "BILL_AMT4                     int64\n",
       "BILL_AMT5                     int64\n",
       "BILL_AMT6                     int64\n",
       "PAY_AMT1                      int64\n",
       "PAY_AMT2                      int64\n",
       "PAY_AMT3                      int64\n",
       "PAY_AMT4                      int64\n",
       "PAY_AMT5                      int64\n",
       "PAY_AMT6                      int64\n",
       "default payment next month    int64\n",
       "dtype: object"
      ]
     },
     "execution_count": 136,
     "metadata": {},
     "output_type": "execute_result"
    }
   ],
   "source": [
    "data.dtypes   "
   ]
  },
  {
   "cell_type": "code",
   "execution_count": 8,
   "metadata": {},
   "outputs": [
    {
     "name": "stdout",
     "output_type": "stream",
     "text": [
      "<class 'pandas.core.frame.DataFrame'>\n",
      "RangeIndex: 30000 entries, 0 to 29999\n",
      "Data columns (total 24 columns):\n",
      "LIMIT_BAL                     30000 non-null int64\n",
      "SEX                           30000 non-null int64\n",
      "EDUCATION                     30000 non-null int64\n",
      "MARRIAGE                      30000 non-null int64\n",
      "AGE                           30000 non-null int64\n",
      "PAY_0                         30000 non-null int64\n",
      "PAY_2                         30000 non-null int64\n",
      "PAY_3                         30000 non-null int64\n",
      "PAY_4                         30000 non-null int64\n",
      "PAY_5                         30000 non-null int64\n",
      "PAY_6                         30000 non-null int64\n",
      "BILL_AMT1                     30000 non-null int64\n",
      "BILL_AMT2                     30000 non-null int64\n",
      "BILL_AMT3                     30000 non-null int64\n",
      "BILL_AMT4                     30000 non-null int64\n",
      "BILL_AMT5                     30000 non-null int64\n",
      "BILL_AMT6                     30000 non-null int64\n",
      "PAY_AMT1                      30000 non-null int64\n",
      "PAY_AMT2                      30000 non-null int64\n",
      "PAY_AMT3                      30000 non-null int64\n",
      "PAY_AMT4                      30000 non-null int64\n",
      "PAY_AMT5                      30000 non-null int64\n",
      "PAY_AMT6                      30000 non-null int64\n",
      "default payment next month    30000 non-null int64\n",
      "dtypes: int64(24)\n",
      "memory usage: 5.5 MB\n"
     ]
    }
   ],
   "source": [
    "data.info()   #no missing value present in the dataset"
   ]
  },
  {
   "cell_type": "code",
   "execution_count": 9,
   "metadata": {},
   "outputs": [
    {
     "data": {
      "text/plain": [
       "LIMIT_BAL                     0\n",
       "SEX                           0\n",
       "EDUCATION                     0\n",
       "MARRIAGE                      0\n",
       "AGE                           0\n",
       "PAY_0                         0\n",
       "PAY_2                         0\n",
       "PAY_3                         0\n",
       "PAY_4                         0\n",
       "PAY_5                         0\n",
       "PAY_6                         0\n",
       "BILL_AMT1                     0\n",
       "BILL_AMT2                     0\n",
       "BILL_AMT3                     0\n",
       "BILL_AMT4                     0\n",
       "BILL_AMT5                     0\n",
       "BILL_AMT6                     0\n",
       "PAY_AMT1                      0\n",
       "PAY_AMT2                      0\n",
       "PAY_AMT3                      0\n",
       "PAY_AMT4                      0\n",
       "PAY_AMT5                      0\n",
       "PAY_AMT6                      0\n",
       "default payment next month    0\n",
       "dtype: int64"
      ]
     },
     "execution_count": 9,
     "metadata": {},
     "output_type": "execute_result"
    }
   ],
   "source": [
    "data.isna().sum()   #clearly data has no missing values"
   ]
  },
  {
   "cell_type": "code",
   "execution_count": 10,
   "metadata": {},
   "outputs": [
    {
     "data": {
      "text/plain": [
       "'education level is mostly graduate school and university\\n    and are mostly single\\n    mean age is 35 years'"
      ]
     },
     "execution_count": 10,
     "metadata": {},
     "output_type": "execute_result"
    }
   ],
   "source": [
    "data.describe()\n",
    "'''education level is mostly graduate school and university\n",
    "    and people are mostly single\n",
    "    mean age is 35 years'''"
   ]
  },
  {
   "cell_type": "code",
   "execution_count": 11,
   "metadata": {},
   "outputs": [
    {
     "name": "stdout",
     "output_type": "stream",
     "text": [
      "0    23364\n",
      "1     6636\n",
      "Name: default payment next month, dtype: int64\n",
      "defaulter 22.12\n",
      "not defaulter 77.88\n"
     ]
    }
   ],
   "source": [
    "sum_default=data[\"default payment next month\"].sum()\n",
    "percent_default=(sum_default/(len(data)))*100\n",
    "print(data[\"default payment next month\"].value_counts())\n",
    "print('defaulter',percent_default)\n",
    "print('not defaulter',100-percent_default)          #data is not balanced"
   ]
  },
  {
   "cell_type": "code",
   "execution_count": 12,
   "metadata": {},
   "outputs": [
    {
     "data": {
      "image/png": "[encoded data removed]",
      "text/plain": [
       "<Figure size 432x288 with 1 Axes>"
      ]
     },
     "metadata": {
      "needs_background": "light"
     },
     "output_type": "display_data"
    },
    {
     "data": {
      "text/plain": [
       "'female are the most defaulters as compared to males'"
      ]
     },
     "execution_count": 12,
     "metadata": {},
     "output_type": "execute_result"
    }
   ],
   "source": [
    "sns.countplot(x='SEX',hue='default payment next month',data = data)  \n",
    "plt.show()\n",
    "\n",
    "'''female are the most defaulters as compared to males'''"
   ]
  },
  {
   "cell_type": "code",
   "execution_count": 13,
   "metadata": {},
   "outputs": [
    {
     "data": {
      "image/png": "[encoded data removed]",
      "text/plain": [
       "<Figure size 432x288 with 1 Axes>"
      ]
     },
     "metadata": {
      "needs_background": "light"
     },
     "output_type": "display_data"
    },
    {
     "data": {
      "text/plain": [
       "'most defaulters are either graduated school or of university compared to others'"
      ]
     },
     "execution_count": 13,
     "metadata": {},
     "output_type": "execute_result"
    }
   ],
   "source": [
    "sns.countplot(x='EDUCATION',hue='default payment next month',data = data)  \n",
    "plt.show()\n",
    "\n",
    "'''most defaulters are either graduated school or of university compared to others'''"
   ]
  },
  {
   "cell_type": "code",
   "execution_count": 14,
   "metadata": {},
   "outputs": [
    {
     "data": {
      "image/png": "[encoded data removed]",
      "text/plain": [
       "<Figure size 432x288 with 1 Axes>"
      ]
     },
     "metadata": {
      "needs_background": "light"
     },
     "output_type": "display_data"
    },
    {
     "data": {
      "text/plain": [
       "'most defaulters are single as compared to married'"
      ]
     },
     "execution_count": 14,
     "metadata": {},
     "output_type": "execute_result"
    }
   ],
   "source": [
    "sns.countplot(x='MARRIAGE',hue='default payment next month',data = data)  \n",
    "plt.show()\n",
    "'''most defaulters are single as compared to married'''"
   ]
  },
  {
   "cell_type": "code",
   "execution_count": 15,
   "metadata": {},
   "outputs": [
    {
     "data": {
      "image/png": "[encoded data removed]",
      "text/plain": [
       "<Figure size 432x288 with 1 Axes>"
      ]
     },
     "metadata": {
      "needs_background": "light"
     },
     "output_type": "display_data"
    }
   ],
   "source": [
    "sns.countplot(x='PAY_0',hue='default payment next month',data = data)  \n",
    "plt.show()"
   ]
  },
  {
   "cell_type": "code",
   "execution_count": 16,
   "metadata": {
    "scrolled": true
   },
   "outputs": [
    {
     "data": {
      "image/png": "[encoded data removed]",
      "text/plain": [
       "<Figure size 432x288 with 1 Axes>"
      ]
     },
     "metadata": {
      "needs_background": "light"
     },
     "output_type": "display_data"
    }
   ],
   "source": [
    "sns.countplot(x='SEX',hue='PAY_0',data = data)  \n",
    "plt.show()"
   ]
  },
  {
   "cell_type": "code",
   "execution_count": 17,
   "metadata": {},
   "outputs": [
    {
     "data": {
      "text/plain": [
       "<matplotlib.axes._subplots.AxesSubplot at 0x2e16661a20>"
      ]
     },
     "execution_count": 17,
     "metadata": {},
     "output_type": "execute_result"
    },
    {
     "data": {
      "image/png": "[encoded data removed]",
      "text/plain": [
       "<Figure size 432x288 with 1 Axes>"
      ]
     },
     "metadata": {
      "needs_background": "light"
     },
     "output_type": "display_data"
    }
   ],
   "source": [
    "sns.countplot(x='PAY_0',hue='default payment next month',data=data)"
   ]
  },
  {
   "cell_type": "code",
   "execution_count": 18,
   "metadata": {},
   "outputs": [
    {
     "data": {
      "text/plain": [
       "<matplotlib.axes._subplots.AxesSubplot at 0x2e16ded240>"
      ]
     },
     "execution_count": 18,
     "metadata": {},
     "output_type": "execute_result"
    },
    {
     "data": {
      "image/png": "[encoded data removed]",
      "text/plain": [
       "<Figure size 432x288 with 1 Axes>"
      ]
     },
     "metadata": {
      "needs_background": "light"
     },
     "output_type": "display_data"
    }
   ],
   "source": [
    "sns.countplot(x='PAY_2',hue='default payment next month',data=data)"
   ]
  },
  {
   "cell_type": "code",
   "execution_count": 19,
   "metadata": {},
   "outputs": [
    {
     "data": {
      "text/plain": [
       "<matplotlib.axes._subplots.AxesSubplot at 0x2e1684fac8>"
      ]
     },
     "execution_count": 19,
     "metadata": {},
     "output_type": "execute_result"
    },
    {
     "data": {
      "image/png": "[encoded data removed]",
      "text/plain": [
       "<Figure size 432x288 with 1 Axes>"
      ]
     },
     "metadata": {
      "needs_background": "light"
     },
     "output_type": "display_data"
    }
   ],
   "source": [
    "sns.countplot(x='PAY_4',hue='default payment next month',data=data)"
   ]
  },
  {
   "cell_type": "code",
   "execution_count": 20,
   "metadata": {},
   "outputs": [
    {
     "data": {
      "text/plain": [
       "<matplotlib.axes._subplots.AxesSubplot at 0x2e16884f98>"
      ]
     },
     "execution_count": 20,
     "metadata": {},
     "output_type": "execute_result"
    },
    {
     "data": {
      "image/png": "[encoded data removed]",
      "text/plain": [
       "<Figure size 432x288 with 1 Axes>"
      ]
     },
     "metadata": {
      "needs_background": "light"
     },
     "output_type": "display_data"
    }
   ],
   "source": [
    "sns.countplot(x='PAY_6',hue='default payment next month',data=data)"
   ]
  },
  {
   "cell_type": "code",
   "execution_count": 21,
   "metadata": {},
   "outputs": [
    {
     "data": {
      "text/plain": [
       "<matplotlib.axes._subplots.AxesSubplot at 0x2e169bfe80>"
      ]
     },
     "execution_count": 21,
     "metadata": {},
     "output_type": "execute_result"
    },
    {
     "data": {
      "image/png": "[encoded data removed]",
      "text/plain": [
       "<Figure size 432x288 with 1 Axes>"
      ]
     },
     "metadata": {
      "needs_background": "light"
     },
     "output_type": "display_data"
    }
   ],
   "source": [
    "sns.countplot(x='PAY_3',hue='default payment next month',data=data)"
   ]
  },
  {
   "cell_type": "code",
   "execution_count": 22,
   "metadata": {},
   "outputs": [
    {
     "data": {
      "text/plain": [
       "<matplotlib.axes._subplots.AxesSubplot at 0x2e16a6cba8>"
      ]
     },
     "execution_count": 22,
     "metadata": {},
     "output_type": "execute_result"
    },
    {
     "data": {
      "image/png": "[encoded data removed]",
      "text/plain": [
       "<Figure size 432x288 with 1 Axes>"
      ]
     },
     "metadata": {
      "needs_background": "light"
     },
     "output_type": "display_data"
    }
   ],
   "source": [
    "sns.countplot(x='PAY_5',hue='default payment next month',data=data)"
   ]
  },
  {
   "cell_type": "code",
   "execution_count": 23,
   "metadata": {},
   "outputs": [
    {
     "data": {
      "image/png": "[encoded data removed]",
      "text/plain": [
       "<Figure size 1440x1440 with 2 Axes>"
      ]
     },
     "metadata": {
      "needs_background": "light"
     },
     "output_type": "display_data"
    }
   ],
   "source": [
    "cor=data.corr()\n",
    "fig_size=plt.rcParams[\"figure.figsize\"]\n",
    "fig_size[0]=20\n",
    "fig_size[1]=20\n",
    "plt.rcParams[\"figure.figsize\"]=fig_size\n",
    "cax=sns.heatmap(cor, vmax=1, vmin=-1, annot=True)"
   ]
  },
  {
   "cell_type": "code",
   "execution_count": 24,
   "metadata": {},
   "outputs": [
    {
     "data": {
      "text/plain": [
       "'our response variable dpnm is higly uncorrelated with ID, BILL_AMT5,BILL_AMT6\\n    this tell us that a person will be defaulter or not is not significantly affected by amount of bill statement \\n    in the month of april and may and his/her ID'"
      ]
     },
     "execution_count": 24,
     "metadata": {},
     "output_type": "execute_result"
    }
   ],
   "source": [
    "'''our response variable dpnm is higly uncorrelated with ID, BILL_AMT5,BILL_AMT6\n",
    "    this tell us that a person will be defaulter or not is not significantly affected by amount of bill statement \n",
    "    in the month of april and may and his/her ID'''"
   ]
  },
  {
   "cell_type": "code",
   "execution_count": 25,
   "metadata": {},
   "outputs": [
    {
     "data": {
      "image/png": "[encoded data removed]",
      "text/plain": [
       "<Figure size 1080x1080 with 25 Axes>"
      ]
     },
     "metadata": {
      "needs_background": "light"
     },
     "output_type": "display_data"
    },
    {
     "data": {
      "text/plain": [
       "'histograms tells us education, marriage, sex are categorical variables'"
      ]
     },
     "execution_count": 25,
     "metadata": {},
     "output_type": "execute_result"
    }
   ],
   "source": [
    "data.hist(figsize=(15,15))\n",
    "plt.show() "
   ]
  },
  {
   "cell_type": "code",
   "execution_count": 26,
   "metadata": {},
   "outputs": [
    {
     "data": {
      "image/png": "[encoded data removed]",
      "text/plain": [
       "<Figure size 1080x1080 with 36 Axes>"
      ]
     },
     "metadata": {
      "needs_background": "light"
     },
     "output_type": "display_data"
    },
    {
     "data": {
      "text/plain": [
       "'large number of outliers are present in BILL_AMT1,BILL_AMT2....BILL_AMT6,PAY_AMT1,.....,PAY_AMT6'"
      ]
     },
     "execution_count": 26,
     "metadata": {},
     "output_type": "execute_result"
    }
   ],
   "source": [
    "data.plot(kind='box', subplots=True, layout=(6,6), sharex=False, sharey=False, figsize=(15,15))\n",
    "plt.subplots_adjust(hspace=0.5)\n",
    "plt.show()  \n",
    "'''large number of outliers are present in BILL_AMT1,BILL_AMT2....BILL_AMT6,PAY_AMT1,.....,PAY_AMT6'''"
   ]
  },
  {
   "cell_type": "code",
   "execution_count": 27,
   "metadata": {},
   "outputs": [],
   "source": [
    "# Import train test split library from sklearn\n",
    "from sklearn.model_selection import train_test_split"
   ]
  },
  {
   "cell_type": "code",
   "execution_count": 28,
   "metadata": {},
   "outputs": [],
   "source": [
    "X=data.drop('default payment next month',axis=1)\n",
    "Y=data['default payment next month']"
   ]
  },
  {
   "cell_type": "code",
   "execution_count": 29,
   "metadata": {},
   "outputs": [],
   "source": [
    "X_train,X_test,y_train,y_test=train_test_split(X,Y,train_size=0.7,test_size=0.3,random_state=100)"
   ]
  },
  {
   "cell_type": "code",
   "execution_count": 30,
   "metadata": {},
   "outputs": [],
   "source": [
    "# import required library for scaling\n",
    "from sklearn.preprocessing import MinMaxScaler\n",
    "from numpy import set_printoptions"
   ]
  },
  {
   "cell_type": "code",
   "execution_count": 31,
   "metadata": {},
   "outputs": [],
   "source": [
    "scaler=MinMaxScaler(feature_range=(0,1))\n",
    "scaler=scaler.fit(X_train)\n",
    "rescaled_X_train=scaler.transform(X_train)\n",
    "rescaled_X_test=scaler.transform(X_test) "
   ]
  },
  {
   "cell_type": "code",
   "execution_count": 32,
   "metadata": {},
   "outputs": [
    {
     "name": "stdout",
     "output_type": "stream",
     "text": [
      "   LIMIT_BAL  SEX  EDUCATION  MARRIAGE       AGE  PAY_0  PAY_2  PAY_3  PAY_4  \\\n",
      "0   0.080808  1.0   0.500000  0.333333  0.074074    0.1    0.1    0.1    0.1   \n",
      "1   0.010101  1.0   0.500000  0.333333  0.425926    0.0    0.0    0.0    0.0   \n",
      "2   0.010101  0.0   0.500000  0.333333  0.277778    0.4    0.4    0.5    0.5   \n",
      "3   0.040404  1.0   0.500000  0.333333  0.481481    0.2    0.2    0.2    0.2   \n",
      "4   0.171717  1.0   0.166667  0.666667  0.148148    0.2    0.2    0.2    0.2   \n",
      "\n",
      "   PAY_5  ...  BILL_AMT3  BILL_AMT4  BILL_AMT5  BILL_AMT6  PAY_AMT1  PAY_AMT2  \\\n",
      "0    0.2  ...   0.036497   0.160505   0.081035   0.261578  0.000199  0.000875   \n",
      "1    0.1  ...   0.035869   0.160505   0.082123   0.263715  0.000446  0.000232   \n",
      "2    0.5  ...   0.036252   0.161127   0.081689   0.261786  0.000000  0.000000   \n",
      "3    0.4  ...   0.053701   0.183964   0.105282   0.276023  0.001879  0.000772   \n",
      "4    0.2  ...   0.112310   0.282752   0.208717   0.359316  0.005724  0.002731   \n",
      "\n",
      "   PAY_AMT3  PAY_AMT4  PAY_AMT5  PAY_AMT6  \n",
      "0  0.000870  0.000000  0.001866  0.000000  \n",
      "1  0.000435  0.002395  0.008517  0.028373  \n",
      "2  0.000000  0.000000  0.000000  0.000000  \n",
      "3  0.001818  0.000000  0.002392  0.001905  \n",
      "4  0.005134  0.007568  0.011895  0.009458  \n",
      "\n",
      "[5 rows x 23 columns]\n"
     ]
    }
   ],
   "source": [
    "set_printoptions(precision=3)\n",
    "rescaled_X_train_df=pd.DataFrame(data=rescaled_X_train,columns=X.columns)\n",
    "print(rescaled_X_train_df.head())"
   ]
  },
  {
   "cell_type": "code",
   "execution_count": 33,
   "metadata": {},
   "outputs": [],
   "source": [
    "# import packages for RFE and Logistic regression\n",
    "from sklearn.feature_selection import RFE\n",
    "from sklearn.linear_model import LogisticRegression"
   ]
  },
  {
   "cell_type": "code",
   "execution_count": 34,
   "metadata": {},
   "outputs": [],
   "source": [
    "model = LogisticRegression(solver='liblinear')\n",
    "rfe_10 = RFE(model, 10)\n",
    "rfe_10 = rfe_10.fit(rescaled_X_train, y_train)"
   ]
  },
  {
   "cell_type": "code",
   "execution_count": 36,
   "metadata": {},
   "outputs": [
    {
     "name": "stdout",
     "output_type": "stream",
     "text": [
      "Num Features: 10\n",
      "Selected Features: [ True False False False False  True  True  True False False False  True\n",
      " False False False False False  True  True False  True  True  True]\n",
      "Feature Ranking: [ 1 14  6  3  8  1  1  1 12  5 10  1  4  9  7 11 13  1  1  2  1  1  1]\n"
     ]
    }
   ],
   "source": [
    "print(\"Num Features: %d\" % rfe_10.n_features_) \n",
    "print(\"Selected Features: %s\" % rfe_10.support_)\n",
    "print(\"Feature Ranking: %s\" % rfe_10.ranking_) "
   ]
  },
  {
   "cell_type": "code",
   "execution_count": 37,
   "metadata": {},
   "outputs": [],
   "source": [
    "# transform the data\n",
    "rescaled_X_train=rfe_10.transform(rescaled_X_train) #all false columns are dropped here\n",
    "rescaled_X_test=rfe_10.transform(rescaled_X_test)"
   ]
  },
  {
   "cell_type": "code",
   "execution_count": 38,
   "metadata": {},
   "outputs": [
    {
     "data": {
      "text/plain": [
       "['SEX',\n",
       " 'EDUCATION',\n",
       " 'MARRIAGE',\n",
       " 'AGE',\n",
       " 'PAY_4',\n",
       " 'PAY_5',\n",
       " 'PAY_6',\n",
       " 'BILL_AMT2',\n",
       " 'BILL_AMT3',\n",
       " 'BILL_AMT4',\n",
       " 'BILL_AMT5',\n",
       " 'BILL_AMT6',\n",
       " 'PAY_AMT3']"
      ]
     },
     "execution_count": 38,
     "metadata": {},
     "output_type": "execute_result"
    }
   ],
   "source": [
    "dropped_cols=list(X.columns[~rfe_10.support_])  \n",
    "dropped_cols"
   ]
  },
  {
   "cell_type": "code",
   "execution_count": 39,
   "metadata": {},
   "outputs": [],
   "source": [
    "#logistic regressiom"
   ]
  },
  {
   "cell_type": "code",
   "execution_count": 40,
   "metadata": {},
   "outputs": [],
   "source": [
    "from sklearn.linear_model import LogisticRegression #import required packages\n",
    "LR=LogisticRegression(solver='liblinear')\n",
    "LR=LR.fit(rescaled_X_train, y_train)\n",
    "LR_y_train=LR.predict(rescaled_X_train) \n",
    "LR_y_test=LR.predict(rescaled_X_test) "
   ]
  },
  {
   "cell_type": "code",
   "execution_count": 41,
   "metadata": {},
   "outputs": [
    {
     "name": "stdout",
     "output_type": "stream",
     "text": [
      "0.8066190476190476\n"
     ]
    }
   ],
   "source": [
    "from sklearn.model_selection import KFold\n",
    "from sklearn.model_selection import cross_val_score\n",
    "kfold=KFold(n_splits=10, random_state=7)\n",
    "results=cross_val_score(LR, rescaled_X_train, y_train, cv=kfold)\n",
    "print(results.mean())"
   ]
  },
  {
   "cell_type": "code",
   "execution_count": 42,
   "metadata": {},
   "outputs": [],
   "source": [
    "from sklearn import metrics\n",
    "con_mat_train=metrics.confusion_matrix(y_train, LR_y_train)"
   ]
  },
  {
   "cell_type": "code",
   "execution_count": 43,
   "metadata": {},
   "outputs": [
    {
     "data": {
      "text/html": [
       "<div>\n",
       "<style scoped>\n",
       "    .dataframe tbody tr th:only-of-type {\n",
       "        vertical-align: middle;\n",
       "    }\n",
       "\n",
       "    .dataframe tbody tr th {\n",
       "        vertical-align: top;\n",
       "    }\n",
       "\n",
       "    .dataframe thead th {\n",
       "        text-align: right;\n",
       "    }\n",
       "</style>\n",
       "<table border=\"1\" class=\"dataframe\">\n",
       "  <thead>\n",
       "    <tr style=\"text-align: right;\">\n",
       "      <th></th>\n",
       "      <th>Predicted Negative</th>\n",
       "      <th>Predicted Positive</th>\n",
       "    </tr>\n",
       "  </thead>\n",
       "  <tbody>\n",
       "    <tr>\n",
       "      <th>Actual Negative</th>\n",
       "      <td>16053</td>\n",
       "      <td>384</td>\n",
       "    </tr>\n",
       "    <tr>\n",
       "      <th>Actual Positive</th>\n",
       "      <td>3673</td>\n",
       "      <td>890</td>\n",
       "    </tr>\n",
       "  </tbody>\n",
       "</table>\n",
       "</div>"
      ],
      "text/plain": [
       "                 Predicted Negative  Predicted Positive\n",
       "Actual Negative               16053                 384\n",
       "Actual Positive                3673                 890"
      ]
     },
     "execution_count": 43,
     "metadata": {},
     "output_type": "execute_result"
    }
   ],
   "source": [
    "# confusion matrix\n",
    "confusion_matrix_df_train=pd.DataFrame(con_mat_train, index = ['Actual Negative','Actual Positive'], \n",
    "                                   columns = ['Predicted Negative','Predicted Positive'])\n",
    "confusion_matrix_df_train"
   ]
  },
  {
   "cell_type": "code",
   "execution_count": 44,
   "metadata": {},
   "outputs": [],
   "source": [
    "TP=con_mat_train[1,1] # true positive \n",
    "TN=con_mat_train[0,0] # true negatives\n",
    "FP=con_mat_train[0,1] # false positives\n",
    "FN=con_mat_train[1,0] # false negatives"
   ]
  },
  {
   "cell_type": "code",
   "execution_count": 45,
   "metadata": {},
   "outputs": [],
   "source": [
    "# Check the accuracy of the model\n",
    "Accuracy_LR_train=round(100*(metrics.accuracy_score(y_train, LR_y_train)),1)\n",
    "# Measure the sensitivity\n",
    "Sensitivity_LR_train=round(100*TP/float(TP+FN))\n",
    "# Measure specificity\n",
    "Specificity_LR_train=round(100*TN/float(TN+FP),1)\n",
    "# Positive predictive value\n",
    "Precision_LR_train=round(100*TP/float(TP+FP))\n",
    "# Measure false positive rate\n",
    "FPrate_LR_train=round(100*FP/float(TN+FP),1)"
   ]
  },
  {
   "cell_type": "code",
   "execution_count": 46,
   "metadata": {},
   "outputs": [
    {
     "data": {
      "text/plain": [
       "{'Accuracy': 80.7,\n",
       " 'Sensitivity': 20.0,\n",
       " 'Specificity': 97.7,\n",
       " 'Precision': 70.0,\n",
       " 'False Positive Rate': 2.3}"
      ]
     },
     "execution_count": 46,
     "metadata": {},
     "output_type": "execute_result"
    }
   ],
   "source": [
    "Metrics = {'Accuracy': Accuracy_LR_train, \n",
    "     'Sensitivity': Sensitivity_LR_train,\n",
    "     'Specificity': Specificity_LR_train,\n",
    "    'Precision' : Precision_LR_train,\n",
    "    'False Positive Rate': FPrate_LR_train}\n",
    "\n",
    "Metrics"
   ]
  },
  {
   "cell_type": "code",
   "execution_count": 47,
   "metadata": {},
   "outputs": [],
   "source": [
    "# Checking the confusion matrix for test data\n",
    "con_mat_test=metrics.confusion_matrix(y_test, LR_y_test)"
   ]
  },
  {
   "cell_type": "code",
   "execution_count": 48,
   "metadata": {},
   "outputs": [
    {
     "data": {
      "text/html": [
       "<div>\n",
       "<style scoped>\n",
       "    .dataframe tbody tr th:only-of-type {\n",
       "        vertical-align: middle;\n",
       "    }\n",
       "\n",
       "    .dataframe tbody tr th {\n",
       "        vertical-align: top;\n",
       "    }\n",
       "\n",
       "    .dataframe thead th {\n",
       "        text-align: right;\n",
       "    }\n",
       "</style>\n",
       "<table border=\"1\" class=\"dataframe\">\n",
       "  <thead>\n",
       "    <tr style=\"text-align: right;\">\n",
       "      <th></th>\n",
       "      <th>Predicted Negative</th>\n",
       "      <th>Predicted Positive</th>\n",
       "    </tr>\n",
       "  </thead>\n",
       "  <tbody>\n",
       "    <tr>\n",
       "      <th>Actual Negative</th>\n",
       "      <td>6786</td>\n",
       "      <td>141</td>\n",
       "    </tr>\n",
       "    <tr>\n",
       "      <th>Actual Positive</th>\n",
       "      <td>1647</td>\n",
       "      <td>426</td>\n",
       "    </tr>\n",
       "  </tbody>\n",
       "</table>\n",
       "</div>"
      ],
      "text/plain": [
       "                 Predicted Negative  Predicted Positive\n",
       "Actual Negative                6786                 141\n",
       "Actual Positive                1647                 426"
      ]
     },
     "execution_count": 48,
     "metadata": {},
     "output_type": "execute_result"
    }
   ],
   "source": [
    "confusion_matrix_df_test=pd.DataFrame(con_mat_test, index=['Actual Negative','Actual Positive'], \n",
    "                                   columns=['Predicted Negative','Predicted Positive'])\n",
    "confusion_matrix_df_test"
   ]
  },
  {
   "cell_type": "code",
   "execution_count": 49,
   "metadata": {},
   "outputs": [],
   "source": [
    "TP=con_mat_test[1,1] # true positive \n",
    "TN=con_mat_test[0,0] # true negatives\n",
    "FP=con_mat_test[0,1] # false positives\n",
    "FN=con_mat_test[1,0] # false negatives"
   ]
  },
  {
   "cell_type": "code",
   "execution_count": 50,
   "metadata": {},
   "outputs": [],
   "source": [
    "# Check the accuracy of the model\n",
    "Accuracy_LR_test=round(100*(metrics.accuracy_score(y_test, LR_y_test)),1)\n",
    "\n",
    "# Measure the sensitivity\n",
    "Sensitivity_LR_test=round(100*TP/float(TP+FN))\n",
    "\n",
    "# Measure specificity\n",
    "Specificity_LR_test=round(100*TN/float(TN+FP),1)\n",
    "\n",
    "# Positive predictive value\n",
    "Precision_LR_test=round(100*TP/float(TP+FP))\n",
    "\n",
    "# Measure false positive rate\n",
    "FPrate_LR_test=round(100*FP/float(TN+FP),1)"
   ]
  },
  {
   "cell_type": "code",
   "execution_count": 51,
   "metadata": {},
   "outputs": [
    {
     "data": {
      "text/plain": [
       "{'Accuracy': 80.1,\n",
       " 'Sensitivity': 21.0,\n",
       " 'Specificity': 98.0,\n",
       " 'Precision': 75.0,\n",
       " 'False Positive Rate': 2.0}"
      ]
     },
     "execution_count": 51,
     "metadata": {},
     "output_type": "execute_result"
    }
   ],
   "source": [
    "# Metrics Dictionary\n",
    "Metrics = {'Accuracy': Accuracy_LR_test, \n",
    "     'Sensitivity': Sensitivity_LR_test,\n",
    "     'Specificity': Specificity_LR_test,\n",
    "    'Precision' : Precision_LR_test,\n",
    "    'False Positive Rate': FPrate_LR_test}\n",
    "Metrics"
   ]
  },
  {
   "cell_type": "code",
   "execution_count": 53,
   "metadata": {},
   "outputs": [],
   "source": [
    "#decision trees"
   ]
  },
  {
   "cell_type": "code",
   "execution_count": 54,
   "metadata": {},
   "outputs": [],
   "source": [
    "from sklearn.tree import DecisionTreeClassifier #import required packages\n",
    "DT=DecisionTreeClassifier()\n",
    "DT=DT.fit(rescaled_X_train,y_train)\n",
    "DT_y_train=DT.predict(rescaled_X_train)\n",
    "DT_y_test=DT.predict(rescaled_X_test)"
   ]
  },
  {
   "cell_type": "code",
   "execution_count": 55,
   "metadata": {},
   "outputs": [],
   "source": [
    "#checking confusion matrix for train data"
   ]
  },
  {
   "cell_type": "code",
   "execution_count": 56,
   "metadata": {},
   "outputs": [
    {
     "data": {
      "text/html": [
       "<div>\n",
       "<style scoped>\n",
       "    .dataframe tbody tr th:only-of-type {\n",
       "        vertical-align: middle;\n",
       "    }\n",
       "\n",
       "    .dataframe tbody tr th {\n",
       "        vertical-align: top;\n",
       "    }\n",
       "\n",
       "    .dataframe thead th {\n",
       "        text-align: right;\n",
       "    }\n",
       "</style>\n",
       "<table border=\"1\" class=\"dataframe\">\n",
       "  <thead>\n",
       "    <tr style=\"text-align: right;\">\n",
       "      <th></th>\n",
       "      <th>Predicted Negative</th>\n",
       "      <th>Predicted Positive</th>\n",
       "    </tr>\n",
       "  </thead>\n",
       "  <tbody>\n",
       "    <tr>\n",
       "      <th>Actual Negative</th>\n",
       "      <td>16380</td>\n",
       "      <td>57</td>\n",
       "    </tr>\n",
       "    <tr>\n",
       "      <th>Actual Positive</th>\n",
       "      <td>141</td>\n",
       "      <td>4422</td>\n",
       "    </tr>\n",
       "  </tbody>\n",
       "</table>\n",
       "</div>"
      ],
      "text/plain": [
       "                 Predicted Negative  Predicted Positive\n",
       "Actual Negative               16380                  57\n",
       "Actual Positive                 141                4422"
      ]
     },
     "execution_count": 56,
     "metadata": {},
     "output_type": "execute_result"
    }
   ],
   "source": [
    "con_mat_train=metrics.confusion_matrix(y_train, DT_y_train)\n",
    "confusion_matrix_df_train=pd.DataFrame(con_mat_train, index=['Actual Negative','Actual Positive'], \n",
    "                                   columns=['Predicted Negative','Predicted Positive'])\n",
    "confusion_matrix_df_train"
   ]
  },
  {
   "cell_type": "code",
   "execution_count": 57,
   "metadata": {},
   "outputs": [],
   "source": [
    "TP=con_mat_train[1,1] # true positive \n",
    "TN=con_mat_train[0,0] # true negatives\n",
    "FP=con_mat_train[0,1] # false positives\n",
    "FN=con_mat_train[1,0] # false negatives"
   ]
  },
  {
   "cell_type": "code",
   "execution_count": 58,
   "metadata": {},
   "outputs": [
    {
     "data": {
      "text/plain": [
       "{'Accuracy': 99.1,\n",
       " 'Sensitivity': 97.0,\n",
       " 'Specificity': 99.7,\n",
       " 'Precision': 99.0,\n",
       " 'False Positive Rate': 0.3}"
      ]
     },
     "execution_count": 58,
     "metadata": {},
     "output_type": "execute_result"
    }
   ],
   "source": [
    "# Check the accuracy of the model\n",
    "Accuracy_DT_train=round(100*(metrics.accuracy_score(y_train, DT_y_train)),1)\n",
    "\n",
    "# Measure the sensitivity\n",
    "Sensitivity_DT_train=round(100*TP/float(TP+FN))\n",
    "\n",
    "# Measure specificity\n",
    "Specificity_DT_train=round(100*TN/float(TN+FP),1)\n",
    "\n",
    "# Positive predictive value\n",
    "Precision_DT_train=round(100*TP/float(TP+FP))\n",
    "\n",
    "# Measure false positive rate\n",
    "FPrate_DT_train=round(100*FP/float(TN+FP),1)\n",
    "# Metrics Dictionary\n",
    "Metrics = {'Accuracy': Accuracy_DT_train, \n",
    "     'Sensitivity': Sensitivity_DT_train,\n",
    "     'Specificity': Specificity_DT_train,\n",
    "    'Precision' : Precision_DT_train,\n",
    "    'False Positive Rate': FPrate_DT_train}\n",
    "Metrics"
   ]
  },
  {
   "cell_type": "code",
   "execution_count": 59,
   "metadata": {},
   "outputs": [],
   "source": [
    "#checking confusion matrix for test data"
   ]
  },
  {
   "cell_type": "code",
   "execution_count": 60,
   "metadata": {},
   "outputs": [
    {
     "data": {
      "text/html": [
       "<div>\n",
       "<style scoped>\n",
       "    .dataframe tbody tr th:only-of-type {\n",
       "        vertical-align: middle;\n",
       "    }\n",
       "\n",
       "    .dataframe tbody tr th {\n",
       "        vertical-align: top;\n",
       "    }\n",
       "\n",
       "    .dataframe thead th {\n",
       "        text-align: right;\n",
       "    }\n",
       "</style>\n",
       "<table border=\"1\" class=\"dataframe\">\n",
       "  <thead>\n",
       "    <tr style=\"text-align: right;\">\n",
       "      <th></th>\n",
       "      <th>Predicted Negative</th>\n",
       "      <th>Predicted Positive</th>\n",
       "    </tr>\n",
       "  </thead>\n",
       "  <tbody>\n",
       "    <tr>\n",
       "      <th>Actual Negative</th>\n",
       "      <td>5664</td>\n",
       "      <td>1263</td>\n",
       "    </tr>\n",
       "    <tr>\n",
       "      <th>Actual Positive</th>\n",
       "      <td>1235</td>\n",
       "      <td>838</td>\n",
       "    </tr>\n",
       "  </tbody>\n",
       "</table>\n",
       "</div>"
      ],
      "text/plain": [
       "                 Predicted Negative  Predicted Positive\n",
       "Actual Negative                5664                1263\n",
       "Actual Positive                1235                 838"
      ]
     },
     "execution_count": 60,
     "metadata": {},
     "output_type": "execute_result"
    }
   ],
   "source": [
    "con_mat_test=metrics.confusion_matrix(y_test, DT_y_test)\n",
    "confusion_matrix_df_test=pd.DataFrame(con_mat_test, index=['Actual Negative','Actual Positive'], \n",
    "                                   columns=['Predicted Negative','Predicted Positive'])\n",
    "confusion_matrix_df_test"
   ]
  },
  {
   "cell_type": "code",
   "execution_count": 61,
   "metadata": {},
   "outputs": [],
   "source": [
    "TP=con_mat_test[1,1] # true positive \n",
    "TN=con_mat_test[0,0] # true negatives\n",
    "FP=con_mat_test[0,1] # false positives\n",
    "FN=con_mat_test[1,0] # false negatives"
   ]
  },
  {
   "cell_type": "code",
   "execution_count": 62,
   "metadata": {},
   "outputs": [
    {
     "data": {
      "text/plain": [
       "{'Accuracy': 72.2,\n",
       " 'Sensitivity': 40.0,\n",
       " 'Specificity': 81.8,\n",
       " 'Precision': 40.0,\n",
       " 'False Positive Rate': 18.2}"
      ]
     },
     "execution_count": 62,
     "metadata": {},
     "output_type": "execute_result"
    }
   ],
   "source": [
    "# Check the accuracy of the model\n",
    "Accuracy_DT_test=round(100*(metrics.accuracy_score(y_test, DT_y_test)),1)\n",
    "\n",
    "# Measure the sensitivity\n",
    "Sensitivity_DT_test=round(100*TP/float(TP+FN))\n",
    "\n",
    "# Measure specificity\n",
    "Specificity_DT_test=round(100*TN/float(TN+FP),1)\n",
    "\n",
    "# Positive predictive value\n",
    "Precision_DT_test=round(100*TP/float(TP+FP))\n",
    "\n",
    "# Measure false positive rate\n",
    "FPrate_DT_test=round(100*FP/float(TN+FP),1)\n",
    "# Metrics Dictionary\n",
    "Metrics = {'Accuracy': Accuracy_DT_test, \n",
    "     'Sensitivity': Sensitivity_DT_test,\n",
    "     'Specificity': Specificity_DT_test,\n",
    "    'Precision' : Precision_DT_test,\n",
    "    'False Positive Rate': FPrate_DT_test}\n",
    "Metrics"
   ]
  },
  {
   "cell_type": "code",
   "execution_count": 63,
   "metadata": {},
   "outputs": [],
   "source": [
    "#knaive bayes"
   ]
  },
  {
   "cell_type": "code",
   "execution_count": 64,
   "metadata": {},
   "outputs": [],
   "source": [
    "from sklearn.naive_bayes import GaussianNB \n",
    "NB=GaussianNB() \n",
    "NB=NB.fit(rescaled_X_train, y_train)  \n",
    "NB_y_train=NB.predict(rescaled_X_train) \n",
    "NB_y_test=NB.predict(rescaled_X_test)"
   ]
  },
  {
   "cell_type": "code",
   "execution_count": 65,
   "metadata": {},
   "outputs": [],
   "source": [
    "#metrics for train data"
   ]
  },
  {
   "cell_type": "code",
   "execution_count": 66,
   "metadata": {},
   "outputs": [
    {
     "data": {
      "text/html": [
       "<div>\n",
       "<style scoped>\n",
       "    .dataframe tbody tr th:only-of-type {\n",
       "        vertical-align: middle;\n",
       "    }\n",
       "\n",
       "    .dataframe tbody tr th {\n",
       "        vertical-align: top;\n",
       "    }\n",
       "\n",
       "    .dataframe thead th {\n",
       "        text-align: right;\n",
       "    }\n",
       "</style>\n",
       "<table border=\"1\" class=\"dataframe\">\n",
       "  <thead>\n",
       "    <tr style=\"text-align: right;\">\n",
       "      <th></th>\n",
       "      <th>Predicted Negative</th>\n",
       "      <th>Predicted Positive</th>\n",
       "    </tr>\n",
       "  </thead>\n",
       "  <tbody>\n",
       "    <tr>\n",
       "      <th>Actual Negative</th>\n",
       "      <td>8825</td>\n",
       "      <td>7612</td>\n",
       "    </tr>\n",
       "    <tr>\n",
       "      <th>Actual Positive</th>\n",
       "      <td>1164</td>\n",
       "      <td>3399</td>\n",
       "    </tr>\n",
       "  </tbody>\n",
       "</table>\n",
       "</div>"
      ],
      "text/plain": [
       "                 Predicted Negative  Predicted Positive\n",
       "Actual Negative                8825                7612\n",
       "Actual Positive                1164                3399"
      ]
     },
     "execution_count": 66,
     "metadata": {},
     "output_type": "execute_result"
    }
   ],
   "source": [
    "con_mat_train=metrics.confusion_matrix(y_train, NB_y_train)\n",
    "confusion_matrix_df_train=pd.DataFrame(con_mat_train, index=['Actual Negative','Actual Positive'], \n",
    "                                   columns=['Predicted Negative','Predicted Positive'])\n",
    "confusion_matrix_df_train"
   ]
  },
  {
   "cell_type": "code",
   "execution_count": 67,
   "metadata": {},
   "outputs": [
    {
     "data": {
      "text/plain": [
       "{'Accuracy': 58.2,\n",
       " 'Sensitivity': 74.0,\n",
       " 'Specificity': 53.7,\n",
       " 'Precision': 31.0,\n",
       " 'False Positive Rate': 46.3}"
      ]
     },
     "execution_count": 67,
     "metadata": {},
     "output_type": "execute_result"
    }
   ],
   "source": [
    "TP=con_mat_train[1,1] # true positive \n",
    "TN=con_mat_train[0,0] # true negatives\n",
    "FP=con_mat_train[0,1] # false positives\n",
    "FN=con_mat_train[1,0] # false negatives\n",
    "\n",
    "# Check the accuracy of the model\n",
    "Accuracy_NB_train=round(100*(metrics.accuracy_score(y_train, NB_y_train)),1)\n",
    "\n",
    "# Measure the sensitivity\n",
    "Sensitivity_NB_train=round(100*TP/float(TP+FN))\n",
    "\n",
    "# Measure specificity\n",
    "Specificity_NB_train=round(100*TN/float(TN+FP),1)\n",
    "\n",
    "# Positive predictive value\n",
    "Precision_NB_train=round(100*TP/float(TP+FP))\n",
    "\n",
    "# Measure false positive rate\n",
    "FPrate_NB_train=round(100*FP/float(TN+FP),1)\n",
    "# Metrics Dictionary\n",
    "Metrics = {'Accuracy': Accuracy_NB_train, \n",
    "     'Sensitivity': Sensitivity_NB_train,\n",
    "     'Specificity': Specificity_NB_train,\n",
    "    'Precision' : Precision_NB_train,\n",
    "    'False Positive Rate': FPrate_NB_train}\n",
    "Metrics"
   ]
  },
  {
   "cell_type": "code",
   "execution_count": 68,
   "metadata": {},
   "outputs": [],
   "source": [
    "#metrics for test data"
   ]
  },
  {
   "cell_type": "code",
   "execution_count": 69,
   "metadata": {},
   "outputs": [
    {
     "data": {
      "text/html": [
       "<div>\n",
       "<style scoped>\n",
       "    .dataframe tbody tr th:only-of-type {\n",
       "        vertical-align: middle;\n",
       "    }\n",
       "\n",
       "    .dataframe tbody tr th {\n",
       "        vertical-align: top;\n",
       "    }\n",
       "\n",
       "    .dataframe thead th {\n",
       "        text-align: right;\n",
       "    }\n",
       "</style>\n",
       "<table border=\"1\" class=\"dataframe\">\n",
       "  <thead>\n",
       "    <tr style=\"text-align: right;\">\n",
       "      <th></th>\n",
       "      <th>Predicted Negative</th>\n",
       "      <th>Predicted Positive</th>\n",
       "    </tr>\n",
       "  </thead>\n",
       "  <tbody>\n",
       "    <tr>\n",
       "      <th>Actual Negative</th>\n",
       "      <td>3711</td>\n",
       "      <td>3216</td>\n",
       "    </tr>\n",
       "    <tr>\n",
       "      <th>Actual Positive</th>\n",
       "      <td>522</td>\n",
       "      <td>1551</td>\n",
       "    </tr>\n",
       "  </tbody>\n",
       "</table>\n",
       "</div>"
      ],
      "text/plain": [
       "                 Predicted Negative  Predicted Positive\n",
       "Actual Negative                3711                3216\n",
       "Actual Positive                 522                1551"
      ]
     },
     "execution_count": 69,
     "metadata": {},
     "output_type": "execute_result"
    }
   ],
   "source": [
    "con_mat_test=metrics.confusion_matrix(y_test, NB_y_test)\n",
    "confusion_matrix_df_test=pd.DataFrame(con_mat_test, index=['Actual Negative','Actual Positive'], \n",
    "                                   columns=['Predicted Negative','Predicted Positive'])\n",
    "confusion_matrix_df_test"
   ]
  },
  {
   "cell_type": "code",
   "execution_count": 70,
   "metadata": {},
   "outputs": [
    {
     "data": {
      "text/plain": [
       "{'Accuracy': 58.5,\n",
       " 'Sensitivity': 75.0,\n",
       " 'Specificity': 53.6,\n",
       " 'Precision': 33.0,\n",
       " 'False Positive Rate': 46.4}"
      ]
     },
     "execution_count": 70,
     "metadata": {},
     "output_type": "execute_result"
    }
   ],
   "source": [
    "TP=con_mat_test[1,1] # true positive \n",
    "TN=con_mat_test[0,0] # true negatives\n",
    "FP=con_mat_test[0,1] # false positives\n",
    "FN=con_mat_test[1,0] # false negatives\n",
    "\n",
    "# Check the accuracy of the model\n",
    "Accuracy_NB_test=round(100*(metrics.accuracy_score(y_test, NB_y_test)),1)\n",
    "\n",
    "# Measure the sensitivity\n",
    "Sensitivity_NB_test=round(100*TP/float(TP+FN))\n",
    "\n",
    "# Measure specificity\n",
    "Specificity_NB_test=round(100*TN/float(TN+FP),1)\n",
    "\n",
    "# Positive predictive value\n",
    "Precision_NB_test=round(100*TP/float(TP+FP))\n",
    "\n",
    "# Measure false positive rate\n",
    "FPrate_NB_test=round(100*FP/float(TN+FP),1)\n",
    "# Metrics Dictionary\n",
    "Metrics = {'Accuracy': Accuracy_NB_test, \n",
    "     'Sensitivity': Sensitivity_NB_test,\n",
    "     'Specificity': Specificity_NB_test,\n",
    "    'Precision' : Precision_NB_test,\n",
    "    'False Positive Rate': FPrate_NB_test}\n",
    "Metrics"
   ]
  },
  {
   "cell_type": "code",
   "execution_count": 71,
   "metadata": {},
   "outputs": [],
   "source": [
    "#Random Forest\n"
   ]
  },
  {
   "cell_type": "code",
   "execution_count": 72,
   "metadata": {},
   "outputs": [],
   "source": [
    "from sklearn.ensemble import RandomForestClassifier\n",
    "num_trees=100\n",
    "max_features=10\n",
    "RF=RandomForestClassifier(n_estimators=num_trees,max_features=max_features)\n",
    "RF=RF.fit(rescaled_X_train,y_train)\n",
    "RF_y_train=RF.predict(rescaled_X_train)\n",
    "RF_y_test=RF.predict(rescaled_X_test)"
   ]
  },
  {
   "cell_type": "code",
   "execution_count": 73,
   "metadata": {},
   "outputs": [],
   "source": [
    "#metrics for train data"
   ]
  },
  {
   "cell_type": "code",
   "execution_count": 74,
   "metadata": {},
   "outputs": [
    {
     "data": {
      "text/html": [
       "<div>\n",
       "<style scoped>\n",
       "    .dataframe tbody tr th:only-of-type {\n",
       "        vertical-align: middle;\n",
       "    }\n",
       "\n",
       "    .dataframe tbody tr th {\n",
       "        vertical-align: top;\n",
       "    }\n",
       "\n",
       "    .dataframe thead th {\n",
       "        text-align: right;\n",
       "    }\n",
       "</style>\n",
       "<table border=\"1\" class=\"dataframe\">\n",
       "  <thead>\n",
       "    <tr style=\"text-align: right;\">\n",
       "      <th></th>\n",
       "      <th>Predicted Negative</th>\n",
       "      <th>Predicted Positive</th>\n",
       "    </tr>\n",
       "  </thead>\n",
       "  <tbody>\n",
       "    <tr>\n",
       "      <th>Actual Negative</th>\n",
       "      <td>16376</td>\n",
       "      <td>61</td>\n",
       "    </tr>\n",
       "    <tr>\n",
       "      <th>Actual Positive</th>\n",
       "      <td>137</td>\n",
       "      <td>4426</td>\n",
       "    </tr>\n",
       "  </tbody>\n",
       "</table>\n",
       "</div>"
      ],
      "text/plain": [
       "                 Predicted Negative  Predicted Positive\n",
       "Actual Negative               16376                  61\n",
       "Actual Positive                 137                4426"
      ]
     },
     "execution_count": 74,
     "metadata": {},
     "output_type": "execute_result"
    }
   ],
   "source": [
    "con_mat_train=metrics.confusion_matrix(y_train, RF_y_train)\n",
    "confusion_matrix_df_train=pd.DataFrame(con_mat_train, index=['Actual Negative','Actual Positive'], \n",
    "                                   columns=['Predicted Negative','Predicted Positive'])\n",
    "confusion_matrix_df_train"
   ]
  },
  {
   "cell_type": "code",
   "execution_count": 75,
   "metadata": {},
   "outputs": [
    {
     "data": {
      "text/plain": [
       "{'Accuracy': 99.1,\n",
       " 'Sensitivity': 97.0,\n",
       " 'Specificity': 99.6,\n",
       " 'Precision': 99.0,\n",
       " 'False Positive Rate': 0.4}"
      ]
     },
     "execution_count": 75,
     "metadata": {},
     "output_type": "execute_result"
    }
   ],
   "source": [
    "TP=con_mat_train[1,1] # true positive \n",
    "TN=con_mat_train[0,0] # true negatives\n",
    "FP=con_mat_train[0,1] # false positives\n",
    "FN=con_mat_train[1,0] # false negatives\n",
    "\n",
    "# Check the accuracy of the model\n",
    "Accuracy_RF_train=round(100*(metrics.accuracy_score(y_train, RF_y_train)),1)\n",
    "\n",
    "# Measure the sensitivity\n",
    "Sensitivity_RF_train=round(100*TP/float(TP+FN))\n",
    "\n",
    "# Measure specificity\n",
    "Specificity_RF_train=round(100*TN/float(TN+FP),1)\n",
    "\n",
    "# Positive predictive value\n",
    "Precision_RF_train=round(100*TP/float(TP+FP))\n",
    "\n",
    "# Measure false positive rate\n",
    "FPrate_RF_train=round(100*FP/float(TN+FP),1)\n",
    "# Metrics Dictionary\n",
    "Metrics = {'Accuracy': Accuracy_RF_train, \n",
    "     'Sensitivity': Sensitivity_RF_train,\n",
    "     'Specificity': Specificity_RF_train,\n",
    "    'Precision' : Precision_RF_train,\n",
    "    'False Positive Rate': FPrate_RF_train}\n",
    "Metrics"
   ]
  },
  {
   "cell_type": "code",
   "execution_count": 76,
   "metadata": {},
   "outputs": [],
   "source": [
    "#metrics for test data"
   ]
  },
  {
   "cell_type": "code",
   "execution_count": 77,
   "metadata": {},
   "outputs": [
    {
     "data": {
      "text/html": [
       "<div>\n",
       "<style scoped>\n",
       "    .dataframe tbody tr th:only-of-type {\n",
       "        vertical-align: middle;\n",
       "    }\n",
       "\n",
       "    .dataframe tbody tr th {\n",
       "        vertical-align: top;\n",
       "    }\n",
       "\n",
       "    .dataframe thead th {\n",
       "        text-align: right;\n",
       "    }\n",
       "</style>\n",
       "<table border=\"1\" class=\"dataframe\">\n",
       "  <thead>\n",
       "    <tr style=\"text-align: right;\">\n",
       "      <th></th>\n",
       "      <th>Predicted Negative</th>\n",
       "      <th>Predicted Positive</th>\n",
       "    </tr>\n",
       "  </thead>\n",
       "  <tbody>\n",
       "    <tr>\n",
       "      <th>Actual Negative</th>\n",
       "      <td>6478</td>\n",
       "      <td>449</td>\n",
       "    </tr>\n",
       "    <tr>\n",
       "      <th>Actual Positive</th>\n",
       "      <td>1291</td>\n",
       "      <td>782</td>\n",
       "    </tr>\n",
       "  </tbody>\n",
       "</table>\n",
       "</div>"
      ],
      "text/plain": [
       "                 Predicted Negative  Predicted Positive\n",
       "Actual Negative                6478                 449\n",
       "Actual Positive                1291                 782"
      ]
     },
     "execution_count": 77,
     "metadata": {},
     "output_type": "execute_result"
    }
   ],
   "source": [
    "con_mat_test=metrics.confusion_matrix(y_test, RF_y_test)\n",
    "confusion_matrix_df_test=pd.DataFrame(con_mat_test, index=['Actual Negative','Actual Positive'], \n",
    "                                   columns=['Predicted Negative','Predicted Positive'])\n",
    "confusion_matrix_df_test"
   ]
  },
  {
   "cell_type": "code",
   "execution_count": 78,
   "metadata": {},
   "outputs": [
    {
     "data": {
      "text/plain": [
       "{'Accuracy': 80.7,\n",
       " 'Sensitivity': 97.0,\n",
       " 'Specificity': 99.6,\n",
       " 'Precision': 99.0,\n",
       " 'False Positive Rate': 0.4}"
      ]
     },
     "execution_count": 78,
     "metadata": {},
     "output_type": "execute_result"
    }
   ],
   "source": [
    "TP=con_mat_train[1,1] # true positive \n",
    "TN=con_mat_train[0,0] # true negatives\n",
    "FP=con_mat_train[0,1] # false positives\n",
    "FN=con_mat_train[1,0] # false negatives\n",
    "\n",
    "# Check the accuracy of the model\n",
    "Accuracy_RF_test=round(100*(metrics.accuracy_score(y_test, RF_y_test)),1)\n",
    "\n",
    "# Measure the sensitivity\n",
    "Sensitivity_RF_test=round(100*TP/float(TP+FN))\n",
    "\n",
    "# Measure specificity\n",
    "Specificity_RF_test=round(100*TN/float(TN+FP),1)\n",
    "\n",
    "# Positive predictive value\n",
    "Precision_RF_test=round(100*TP/float(TP+FP))\n",
    "\n",
    "# Measure false positive rate\n",
    "FPrate_RF_test=round(100*FP/float(TN+FP),1)\n",
    "# Metrics Dictionary\n",
    "Metrics = {'Accuracy': Accuracy_RF_test, \n",
    "     'Sensitivity': Sensitivity_RF_test,\n",
    "     'Specificity': Specificity_RF_test,\n",
    "    'Precision' : Precision_RF_test,\n",
    "    'False Positive Rate': FPrate_RF_test}\n",
    "Metrics"
   ]
  },
  {
   "cell_type": "code",
   "execution_count": 79,
   "metadata": {},
   "outputs": [],
   "source": [
    "#comparing different models"
   ]
  },
  {
   "cell_type": "code",
   "execution_count": 80,
   "metadata": {},
   "outputs": [],
   "source": [
    "Train_labels=pd.DataFrame({'Actual':y_train, \n",
    "                            'Logit':LR_y_train, \n",
    "                            'Decision Tree':DT_y_train, \n",
    "                            'Naive Bayes':NB_y_train,\n",
    "                          'Random Forest': RF_y_train})"
   ]
  },
  {
   "cell_type": "code",
   "execution_count": 81,
   "metadata": {},
   "outputs": [
    {
     "data": {
      "text/html": [
       "<div>\n",
       "<style scoped>\n",
       "    .dataframe tbody tr th:only-of-type {\n",
       "        vertical-align: middle;\n",
       "    }\n",
       "\n",
       "    .dataframe tbody tr th {\n",
       "        vertical-align: top;\n",
       "    }\n",
       "\n",
       "    .dataframe thead th {\n",
       "        text-align: right;\n",
       "    }\n",
       "</style>\n",
       "<table border=\"1\" class=\"dataframe\">\n",
       "  <thead>\n",
       "    <tr style=\"text-align: right;\">\n",
       "      <th></th>\n",
       "      <th>Actual</th>\n",
       "      <th>Logit</th>\n",
       "      <th>Decision Tree</th>\n",
       "      <th>Naive Bayes</th>\n",
       "      <th>Random Forest</th>\n",
       "    </tr>\n",
       "  </thead>\n",
       "  <tbody>\n",
       "    <tr>\n",
       "      <th>4636</th>\n",
       "      <td>1</td>\n",
       "      <td>0</td>\n",
       "      <td>1</td>\n",
       "      <td>0</td>\n",
       "      <td>1</td>\n",
       "    </tr>\n",
       "    <tr>\n",
       "      <th>11785</th>\n",
       "      <td>0</td>\n",
       "      <td>0</td>\n",
       "      <td>0</td>\n",
       "      <td>1</td>\n",
       "      <td>0</td>\n",
       "    </tr>\n",
       "    <tr>\n",
       "      <th>11987</th>\n",
       "      <td>1</td>\n",
       "      <td>1</td>\n",
       "      <td>1</td>\n",
       "      <td>1</td>\n",
       "      <td>1</td>\n",
       "    </tr>\n",
       "    <tr>\n",
       "      <th>11648</th>\n",
       "      <td>0</td>\n",
       "      <td>0</td>\n",
       "      <td>0</td>\n",
       "      <td>1</td>\n",
       "      <td>0</td>\n",
       "    </tr>\n",
       "    <tr>\n",
       "      <th>12890</th>\n",
       "      <td>0</td>\n",
       "      <td>0</td>\n",
       "      <td>0</td>\n",
       "      <td>0</td>\n",
       "      <td>0</td>\n",
       "    </tr>\n",
       "  </tbody>\n",
       "</table>\n",
       "</div>"
      ],
      "text/plain": [
       "       Actual  Logit  Decision Tree  Naive Bayes  Random Forest\n",
       "4636        1      0              1            0              1\n",
       "11785       0      0              0            1              0\n",
       "11987       1      1              1            1              1\n",
       "11648       0      0              0            1              0\n",
       "12890       0      0              0            0              0"
      ]
     },
     "execution_count": 81,
     "metadata": {},
     "output_type": "execute_result"
    }
   ],
   "source": [
    "Train_labels.head()"
   ]
  },
  {
   "cell_type": "code",
   "execution_count": 82,
   "metadata": {},
   "outputs": [
    {
     "data": {
      "text/html": [
       "<div>\n",
       "<style scoped>\n",
       "    .dataframe tbody tr th:only-of-type {\n",
       "        vertical-align: middle;\n",
       "    }\n",
       "\n",
       "    .dataframe tbody tr th {\n",
       "        vertical-align: top;\n",
       "    }\n",
       "\n",
       "    .dataframe thead th {\n",
       "        text-align: right;\n",
       "    }\n",
       "</style>\n",
       "<table border=\"1\" class=\"dataframe\">\n",
       "  <thead>\n",
       "    <tr style=\"text-align: right;\">\n",
       "      <th></th>\n",
       "      <th>Actual</th>\n",
       "      <th>Logit</th>\n",
       "      <th>Decision Tree</th>\n",
       "      <th>Naive Bayes</th>\n",
       "      <th>Random Forest</th>\n",
       "    </tr>\n",
       "  </thead>\n",
       "  <tbody>\n",
       "    <tr>\n",
       "      <th>6102</th>\n",
       "      <td>0</td>\n",
       "      <td>0</td>\n",
       "      <td>0</td>\n",
       "      <td>0</td>\n",
       "      <td>0</td>\n",
       "    </tr>\n",
       "    <tr>\n",
       "      <th>2539</th>\n",
       "      <td>0</td>\n",
       "      <td>0</td>\n",
       "      <td>1</td>\n",
       "      <td>0</td>\n",
       "      <td>0</td>\n",
       "    </tr>\n",
       "    <tr>\n",
       "      <th>21576</th>\n",
       "      <td>0</td>\n",
       "      <td>0</td>\n",
       "      <td>0</td>\n",
       "      <td>1</td>\n",
       "      <td>0</td>\n",
       "    </tr>\n",
       "    <tr>\n",
       "      <th>19574</th>\n",
       "      <td>0</td>\n",
       "      <td>0</td>\n",
       "      <td>0</td>\n",
       "      <td>0</td>\n",
       "      <td>0</td>\n",
       "    </tr>\n",
       "    <tr>\n",
       "      <th>12804</th>\n",
       "      <td>0</td>\n",
       "      <td>0</td>\n",
       "      <td>0</td>\n",
       "      <td>0</td>\n",
       "      <td>0</td>\n",
       "    </tr>\n",
       "  </tbody>\n",
       "</table>\n",
       "</div>"
      ],
      "text/plain": [
       "       Actual  Logit  Decision Tree  Naive Bayes  Random Forest\n",
       "6102        0      0              0            0              0\n",
       "2539        0      0              1            0              0\n",
       "21576       0      0              0            1              0\n",
       "19574       0      0              0            0              0\n",
       "12804       0      0              0            0              0"
      ]
     },
     "execution_count": 82,
     "metadata": {},
     "output_type": "execute_result"
    }
   ],
   "source": [
    "Test_labels=pd.DataFrame({'Actual':y_test, \n",
    "                          'Logit':LR_y_test, \n",
    "                          'Decision Tree':DT_y_test, \n",
    "                          'Naive Bayes':NB_y_test,\n",
    "                         'Random Forest':RF_y_test})\n",
    "Test_labels.head()"
   ]
  },
  {
   "cell_type": "code",
   "execution_count": 83,
   "metadata": {},
   "outputs": [],
   "source": [
    "# Model Accuracy for Train and Test Datasets\n",
    "Accuracy_train=[Accuracy_LR_train,Accuracy_DT_train,Accuracy_NB_train,Accuracy_RF_train]\n",
    "Accuracy_test=[Accuracy_LR_test,Accuracy_DT_test,Accuracy_NB_test,Accuracy_RF_test]\n",
    "\n",
    "# Model Sensitivity for Train and Test Datasets\n",
    "Sensitivity_train=[Sensitivity_LR_train,Sensitivity_DT_train,Sensitivity_NB_train,Sensitivity_RF_train]\n",
    "Sensitivity_test=[Sensitivity_LR_test,Sensitivity_DT_test,Sensitivity_NB_test,Sensitivity_RF_test]\n",
    "\n",
    "# Model Specificity for Train and Test Datasets\n",
    "Specificity_train=[Specificity_LR_train,Specificity_DT_train,Specificity_NB_train,Specificity_RF_train]\n",
    "Specificity_test=[Specificity_LR_test,Specificity_DT_test,Specificity_NB_test,Specificity_RF_test]\n",
    "\n",
    "# Model Precision for Train and Test Datasets\n",
    "Precision_train=[Precision_LR_train,Precision_DT_train,Precision_NB_train,Precision_RF_train]\n",
    "Precision_test=[Precision_LR_test,Precision_DT_test,Precision_NB_test,Precision_RF_test]"
   ]
  },
  {
   "cell_type": "code",
   "execution_count": 84,
   "metadata": {},
   "outputs": [],
   "source": [
    "Model_metrics=pd.DataFrame({'Accuracy_train':Accuracy_train,\n",
    "                              'Accuracy_test':Accuracy_test,\n",
    "                              'Sensitivity_train':Sensitivity_train,\n",
    "                              'Sensitivity_test':Sensitivity_test,\n",
    "                              'Specificity_train':Specificity_train,\n",
    "                              'Specificity_test':Specificity_test,\n",
    "                              'Precision_train':Precision_train,\n",
    "                              'Precision_test':Precision_test}, \n",
    "                              index = ['Logistic Regression','Decision Tree','Naive Bayes','Random Forest'] ) "
   ]
  },
  {
   "cell_type": "code",
   "execution_count": 85,
   "metadata": {},
   "outputs": [
    {
     "data": {
      "text/html": [
       "<div>\n",
       "<style scoped>\n",
       "    .dataframe tbody tr th:only-of-type {\n",
       "        vertical-align: middle;\n",
       "    }\n",
       "\n",
       "    .dataframe tbody tr th {\n",
       "        vertical-align: top;\n",
       "    }\n",
       "\n",
       "    .dataframe thead th {\n",
       "        text-align: right;\n",
       "    }\n",
       "</style>\n",
       "<table border=\"1\" class=\"dataframe\">\n",
       "  <thead>\n",
       "    <tr style=\"text-align: right;\">\n",
       "      <th></th>\n",
       "      <th>Accuracy_train</th>\n",
       "      <th>Accuracy_test</th>\n",
       "      <th>Sensitivity_train</th>\n",
       "      <th>Sensitivity_test</th>\n",
       "      <th>Specificity_train</th>\n",
       "      <th>Specificity_test</th>\n",
       "      <th>Precision_train</th>\n",
       "      <th>Precision_test</th>\n",
       "    </tr>\n",
       "  </thead>\n",
       "  <tbody>\n",
       "    <tr>\n",
       "      <th>Logistic Regression</th>\n",
       "      <td>80.7</td>\n",
       "      <td>80.1</td>\n",
       "      <td>20.0</td>\n",
       "      <td>21.0</td>\n",
       "      <td>97.7</td>\n",
       "      <td>98.0</td>\n",
       "      <td>70.0</td>\n",
       "      <td>75.0</td>\n",
       "    </tr>\n",
       "    <tr>\n",
       "      <th>Decision Tree</th>\n",
       "      <td>99.1</td>\n",
       "      <td>72.2</td>\n",
       "      <td>97.0</td>\n",
       "      <td>40.0</td>\n",
       "      <td>99.7</td>\n",
       "      <td>81.8</td>\n",
       "      <td>99.0</td>\n",
       "      <td>40.0</td>\n",
       "    </tr>\n",
       "    <tr>\n",
       "      <th>Naive Bayes</th>\n",
       "      <td>58.2</td>\n",
       "      <td>58.5</td>\n",
       "      <td>74.0</td>\n",
       "      <td>75.0</td>\n",
       "      <td>53.7</td>\n",
       "      <td>53.6</td>\n",
       "      <td>31.0</td>\n",
       "      <td>33.0</td>\n",
       "    </tr>\n",
       "    <tr>\n",
       "      <th>Random Forest</th>\n",
       "      <td>99.1</td>\n",
       "      <td>80.7</td>\n",
       "      <td>97.0</td>\n",
       "      <td>97.0</td>\n",
       "      <td>99.6</td>\n",
       "      <td>99.6</td>\n",
       "      <td>99.0</td>\n",
       "      <td>99.0</td>\n",
       "    </tr>\n",
       "  </tbody>\n",
       "</table>\n",
       "</div>"
      ],
      "text/plain": [
       "                     Accuracy_train  Accuracy_test  Sensitivity_train  \\\n",
       "Logistic Regression            80.7           80.1               20.0   \n",
       "Decision Tree                  99.1           72.2               97.0   \n",
       "Naive Bayes                    58.2           58.5               74.0   \n",
       "Random Forest                  99.1           80.7               97.0   \n",
       "\n",
       "                     Sensitivity_test  Specificity_train  Specificity_test  \\\n",
       "Logistic Regression              21.0               97.7              98.0   \n",
       "Decision Tree                    40.0               99.7              81.8   \n",
       "Naive Bayes                      75.0               53.7              53.6   \n",
       "Random Forest                    97.0               99.6              99.6   \n",
       "\n",
       "                     Precision_train  Precision_test  \n",
       "Logistic Regression             70.0            75.0  \n",
       "Decision Tree                   99.0            40.0  \n",
       "Naive Bayes                     31.0            33.0  \n",
       "Random Forest                   99.0            99.0  "
      ]
     },
     "execution_count": 85,
     "metadata": {},
     "output_type": "execute_result"
    }
   ],
   "source": [
    "Model_metrics"
   ]
  },
  {
   "cell_type": "code",
   "execution_count": 86,
   "metadata": {},
   "outputs": [],
   "source": [
    "#RFE WITH K=15"
   ]
  },
  {
   "cell_type": "code",
   "execution_count": 87,
   "metadata": {},
   "outputs": [],
   "source": [
    "X=data.drop('default payment next month',axis=1)\n",
    "Y=data['default payment next month']\n",
    "X_train,X_test,y_train,y_test=train_test_split(X,Y,train_size=0.7,test_size=0.3,random_state=100)"
   ]
  },
  {
   "cell_type": "code",
   "execution_count": 90,
   "metadata": {},
   "outputs": [],
   "source": [
    "scaler=MinMaxScaler(feature_range=(0,1))\n",
    "scaler=scaler.fit(X_train)\n",
    "rescaled_X_train2=scaler.transform(X_train)\n",
    "rescaled_X_test2=scaler.transform(X_test) "
   ]
  },
  {
   "cell_type": "code",
   "execution_count": 91,
   "metadata": {},
   "outputs": [],
   "source": [
    "model = LogisticRegression(solver='liblinear')\n",
    "rfe_15 = RFE(model, 15)\n",
    "rfe_15 = rfe_15.fit(rescaled_X_train2, y_train)"
   ]
  },
  {
   "cell_type": "code",
   "execution_count": 94,
   "metadata": {},
   "outputs": [
    {
     "name": "stdout",
     "output_type": "stream",
     "text": [
      "Num Features: 15\n",
      "Selected Features: [ True False  True  True False  True  True  True False  True False  True\n",
      "  True False False False False  True  True  True  True  True  True]\n",
      "Feature Ranking: [1 9 1 1 3 1 1 1 7 1 5 1 1 4 2 6 8 1 1 1 1 1 1]\n"
     ]
    }
   ],
   "source": [
    "print(\"Num Features: %d\" % rfe_15.n_features_) \n",
    "print(\"Selected Features: %s\" % rfe_15.support_)\n",
    "print(\"Feature Ranking: %s\" % rfe_15.ranking_) "
   ]
  },
  {
   "cell_type": "code",
   "execution_count": 95,
   "metadata": {},
   "outputs": [],
   "source": [
    "rescaled_X_train=rfe_15.transform(rescaled_X_train2)\n",
    "rescaled_X_test=rfe_15.transform(rescaled_X_test2)"
   ]
  },
  {
   "cell_type": "code",
   "execution_count": 96,
   "metadata": {},
   "outputs": [
    {
     "data": {
      "text/plain": [
       "['SEX',\n",
       " 'AGE',\n",
       " 'PAY_4',\n",
       " 'PAY_6',\n",
       " 'BILL_AMT3',\n",
       " 'BILL_AMT4',\n",
       " 'BILL_AMT5',\n",
       " 'BILL_AMT6']"
      ]
     },
     "execution_count": 96,
     "metadata": {},
     "output_type": "execute_result"
    }
   ],
   "source": [
    "dropped_cols=list(X.columns[~rfe_15.support_]) \n",
    "dropped_cols"
   ]
  },
  {
   "cell_type": "code",
   "execution_count": 97,
   "metadata": {},
   "outputs": [],
   "source": [
    "from sklearn.linear_model import LogisticRegression #import required packages\n",
    "LR=LogisticRegression(solver='liblinear')\n",
    "LR=LR.fit(rescaled_X_train, y_train)\n",
    "LR_y_train=LR.predict(rescaled_X_train) \n",
    "LR_y_test=LR.predict(rescaled_X_test) "
   ]
  },
  {
   "cell_type": "code",
   "execution_count": 98,
   "metadata": {},
   "outputs": [
    {
     "name": "stdout",
     "output_type": "stream",
     "text": [
      "0.808952380952381\n"
     ]
    }
   ],
   "source": [
    "from sklearn.model_selection import KFold\n",
    "from sklearn.model_selection import cross_val_score\n",
    "kfold=KFold(n_splits=10, random_state=7)\n",
    "results=cross_val_score(LR, rescaled_X_train, y_train, cv=kfold)\n",
    "print(results.mean())"
   ]
  },
  {
   "cell_type": "code",
   "execution_count": 99,
   "metadata": {},
   "outputs": [
    {
     "data": {
      "text/html": [
       "<div>\n",
       "<style scoped>\n",
       "    .dataframe tbody tr th:only-of-type {\n",
       "        vertical-align: middle;\n",
       "    }\n",
       "\n",
       "    .dataframe tbody tr th {\n",
       "        vertical-align: top;\n",
       "    }\n",
       "\n",
       "    .dataframe thead th {\n",
       "        text-align: right;\n",
       "    }\n",
       "</style>\n",
       "<table border=\"1\" class=\"dataframe\">\n",
       "  <thead>\n",
       "    <tr style=\"text-align: right;\">\n",
       "      <th></th>\n",
       "      <th>Predicted Negative</th>\n",
       "      <th>Predicted Positive</th>\n",
       "    </tr>\n",
       "  </thead>\n",
       "  <tbody>\n",
       "    <tr>\n",
       "      <th>Actual Negative</th>\n",
       "      <td>16376</td>\n",
       "      <td>61</td>\n",
       "    </tr>\n",
       "    <tr>\n",
       "      <th>Actual Positive</th>\n",
       "      <td>137</td>\n",
       "      <td>4426</td>\n",
       "    </tr>\n",
       "  </tbody>\n",
       "</table>\n",
       "</div>"
      ],
      "text/plain": [
       "                 Predicted Negative  Predicted Positive\n",
       "Actual Negative               16376                  61\n",
       "Actual Positive                 137                4426"
      ]
     },
     "execution_count": 99,
     "metadata": {},
     "output_type": "execute_result"
    }
   ],
   "source": [
    "# confusion matrix\n",
    "confusion_matrix_df_train=pd.DataFrame(con_mat_train, index = ['Actual Negative','Actual Positive'], \n",
    "                                   columns = ['Predicted Negative','Predicted Positive'])\n",
    "confusion_matrix_df_train"
   ]
  },
  {
   "cell_type": "code",
   "execution_count": 100,
   "metadata": {},
   "outputs": [],
   "source": [
    "TP=con_mat_train[1,1] # true positive \n",
    "TN=con_mat_train[0,0] # true negatives\n",
    "FP=con_mat_train[0,1] # false positives\n",
    "FN=con_mat_train[1,0] # false negatives"
   ]
  },
  {
   "cell_type": "code",
   "execution_count": 101,
   "metadata": {},
   "outputs": [],
   "source": [
    "# Check the accuracy of the model\n",
    "Accuracy_LR_train=round(100*(metrics.accuracy_score(y_train, LR_y_train)),1)\n",
    "# Measure the sensitivity\n",
    "Sensitivity_LR_train=round(100*TP/float(TP+FN))\n",
    "# Measure specificity\n",
    "Specificity_LR_train=round(100*TN/float(TN+FP),1)\n",
    "# Positive predictive value\n",
    "Precision_LR_train=round(100*TP/float(TP+FP))\n",
    "# Measure false positive rate\n",
    "FPrate_LR_train=round(100*FP/float(TN+FP),1)"
   ]
  },
  {
   "cell_type": "code",
   "execution_count": 102,
   "metadata": {},
   "outputs": [
    {
     "data": {
      "text/plain": [
       "{'Accuracy': 80.9,\n",
       " 'Sensitivity': 97.0,\n",
       " 'Specificity': 99.6,\n",
       " 'Precision': 99.0,\n",
       " 'False Positive Rate': 0.4}"
      ]
     },
     "execution_count": 102,
     "metadata": {},
     "output_type": "execute_result"
    }
   ],
   "source": [
    "Metrics = {'Accuracy': Accuracy_LR_train, \n",
    "     'Sensitivity': Sensitivity_LR_train,\n",
    "     'Specificity': Specificity_LR_train,\n",
    "    'Precision' : Precision_LR_train,\n",
    "    'False Positive Rate': FPrate_LR_train}\n",
    "\n",
    "Metrics"
   ]
  },
  {
   "cell_type": "code",
   "execution_count": 103,
   "metadata": {},
   "outputs": [],
   "source": [
    "# Checking the confusion matrix for test data\n",
    "con_mat_test=metrics.confusion_matrix(y_test, LR_y_test)"
   ]
  },
  {
   "cell_type": "code",
   "execution_count": 104,
   "metadata": {},
   "outputs": [
    {
     "data": {
      "text/html": [
       "<div>\n",
       "<style scoped>\n",
       "    .dataframe tbody tr th:only-of-type {\n",
       "        vertical-align: middle;\n",
       "    }\n",
       "\n",
       "    .dataframe tbody tr th {\n",
       "        vertical-align: top;\n",
       "    }\n",
       "\n",
       "    .dataframe thead th {\n",
       "        text-align: right;\n",
       "    }\n",
       "</style>\n",
       "<table border=\"1\" class=\"dataframe\">\n",
       "  <thead>\n",
       "    <tr style=\"text-align: right;\">\n",
       "      <th></th>\n",
       "      <th>Predicted Negative</th>\n",
       "      <th>Predicted Positive</th>\n",
       "    </tr>\n",
       "  </thead>\n",
       "  <tbody>\n",
       "    <tr>\n",
       "      <th>Actual Negative</th>\n",
       "      <td>6775</td>\n",
       "      <td>152</td>\n",
       "    </tr>\n",
       "    <tr>\n",
       "      <th>Actual Positive</th>\n",
       "      <td>1625</td>\n",
       "      <td>448</td>\n",
       "    </tr>\n",
       "  </tbody>\n",
       "</table>\n",
       "</div>"
      ],
      "text/plain": [
       "                 Predicted Negative  Predicted Positive\n",
       "Actual Negative                6775                 152\n",
       "Actual Positive                1625                 448"
      ]
     },
     "execution_count": 104,
     "metadata": {},
     "output_type": "execute_result"
    }
   ],
   "source": [
    "confusion_matrix_df_test=pd.DataFrame(con_mat_test, index=['Actual Negative','Actual Positive'], \n",
    "                                   columns=['Predicted Negative','Predicted Positive'])\n",
    "confusion_matrix_df_test"
   ]
  },
  {
   "cell_type": "code",
   "execution_count": 105,
   "metadata": {},
   "outputs": [
    {
     "data": {
      "text/plain": [
       "{'Accuracy': 80.3,\n",
       " 'Sensitivity': 22.0,\n",
       " 'Specificity': 97.8,\n",
       " 'Precision': 75.0,\n",
       " 'False Positive Rate': 2.2}"
      ]
     },
     "execution_count": 105,
     "metadata": {},
     "output_type": "execute_result"
    }
   ],
   "source": [
    "TP=con_mat_test[1,1] # true positive \n",
    "TN=con_mat_test[0,0] # true negatives\n",
    "FP=con_mat_test[0,1] # false positives\n",
    "FN=con_mat_test[1,0] # false negatives\n",
    "\n",
    "# Check the accuracy of the model\n",
    "Accuracy_LR_test=round(100*(metrics.accuracy_score(y_test, LR_y_test)),1)\n",
    "\n",
    "# Measure the sensitivity\n",
    "Sensitivity_LR_test=round(100*TP/float(TP+FN))\n",
    "\n",
    "# Measure specificity\n",
    "Specificity_LR_test=round(100*TN/float(TN+FP),1)\n",
    "\n",
    "# Positive predictive value\n",
    "Precision_LR_test=round(100*TP/float(TP+FP))\n",
    "\n",
    "# Measure false positive rate\n",
    "FPrate_LR_test=round(100*FP/float(TN+FP),1)\n",
    "\n",
    "# Metrics Dictionary\n",
    "Metrics = {'Accuracy': Accuracy_LR_test, \n",
    "     'Sensitivity': Sensitivity_LR_test,\n",
    "     'Specificity': Specificity_LR_test,\n",
    "    'Precision' : Precision_LR_test,\n",
    "    'False Positive Rate': FPrate_LR_test}\n",
    "Metrics"
   ]
  },
  {
   "cell_type": "code",
   "execution_count": 106,
   "metadata": {},
   "outputs": [],
   "source": [
    "#decision trees"
   ]
  },
  {
   "cell_type": "code",
   "execution_count": 107,
   "metadata": {},
   "outputs": [],
   "source": [
    "DT=DecisionTreeClassifier()\n",
    "DT=DT.fit(rescaled_X_train,y_train)\n",
    "DT_y_train=DT.predict(rescaled_X_train)\n",
    "DT_y_test=DT.predict(rescaled_X_test)"
   ]
  },
  {
   "cell_type": "code",
   "execution_count": 108,
   "metadata": {},
   "outputs": [],
   "source": [
    "#checking confusion matrix for train data"
   ]
  },
  {
   "cell_type": "code",
   "execution_count": 109,
   "metadata": {},
   "outputs": [
    {
     "data": {
      "text/html": [
       "<div>\n",
       "<style scoped>\n",
       "    .dataframe tbody tr th:only-of-type {\n",
       "        vertical-align: middle;\n",
       "    }\n",
       "\n",
       "    .dataframe tbody tr th {\n",
       "        vertical-align: top;\n",
       "    }\n",
       "\n",
       "    .dataframe thead th {\n",
       "        text-align: right;\n",
       "    }\n",
       "</style>\n",
       "<table border=\"1\" class=\"dataframe\">\n",
       "  <thead>\n",
       "    <tr style=\"text-align: right;\">\n",
       "      <th></th>\n",
       "      <th>Predicted Negative</th>\n",
       "      <th>Predicted Positive</th>\n",
       "    </tr>\n",
       "  </thead>\n",
       "  <tbody>\n",
       "    <tr>\n",
       "      <th>Actual Negative</th>\n",
       "      <td>16414</td>\n",
       "      <td>23</td>\n",
       "    </tr>\n",
       "    <tr>\n",
       "      <th>Actual Positive</th>\n",
       "      <td>102</td>\n",
       "      <td>4461</td>\n",
       "    </tr>\n",
       "  </tbody>\n",
       "</table>\n",
       "</div>"
      ],
      "text/plain": [
       "                 Predicted Negative  Predicted Positive\n",
       "Actual Negative               16414                  23\n",
       "Actual Positive                 102                4461"
      ]
     },
     "execution_count": 109,
     "metadata": {},
     "output_type": "execute_result"
    }
   ],
   "source": [
    "con_mat_train=metrics.confusion_matrix(y_train, DT_y_train)\n",
    "confusion_matrix_df_train=pd.DataFrame(con_mat_train, index=['Actual Negative','Actual Positive'], \n",
    "                                   columns=['Predicted Negative','Predicted Positive'])\n",
    "confusion_matrix_df_train"
   ]
  },
  {
   "cell_type": "code",
   "execution_count": 110,
   "metadata": {},
   "outputs": [
    {
     "data": {
      "text/plain": [
       "{'Accuracy': 99.4,\n",
       " 'Sensitivity': 98.0,\n",
       " 'Specificity': 99.9,\n",
       " 'Precision': 99.0,\n",
       " 'False Positive Rate': 0.1}"
      ]
     },
     "execution_count": 110,
     "metadata": {},
     "output_type": "execute_result"
    }
   ],
   "source": [
    "TP=con_mat_train[1,1] # true positive \n",
    "TN=con_mat_train[0,0] # true negatives\n",
    "FP=con_mat_train[0,1] # false positives\n",
    "FN=con_mat_train[1,0] # false negatives\n",
    "# Check the accuracy of the model\n",
    "Accuracy_DT_train=round(100*(metrics.accuracy_score(y_train, DT_y_train)),1)\n",
    "\n",
    "# Measure the sensitivity\n",
    "Sensitivity_DT_train=round(100*TP/float(TP+FN))\n",
    "\n",
    "# Measure specificity\n",
    "Specificity_DT_train=round(100*TN/float(TN+FP),1)\n",
    "\n",
    "# Positive predictive value\n",
    "Precision_DT_train=round(100*TP/float(TP+FP))\n",
    "\n",
    "# Measure false positive rate\n",
    "FPrate_DT_train=round(100*FP/float(TN+FP),1)\n",
    "# Metrics Dictionary\n",
    "Metrics = {'Accuracy': Accuracy_DT_train, \n",
    "     'Sensitivity': Sensitivity_DT_train,\n",
    "     'Specificity': Specificity_DT_train,\n",
    "    'Precision' : Precision_DT_train,\n",
    "    'False Positive Rate': FPrate_DT_train}\n",
    "Metrics"
   ]
  },
  {
   "cell_type": "code",
   "execution_count": 111,
   "metadata": {},
   "outputs": [],
   "source": [
    "#checking confusion matrix for test data"
   ]
  },
  {
   "cell_type": "code",
   "execution_count": 112,
   "metadata": {},
   "outputs": [
    {
     "data": {
      "text/html": [
       "<div>\n",
       "<style scoped>\n",
       "    .dataframe tbody tr th:only-of-type {\n",
       "        vertical-align: middle;\n",
       "    }\n",
       "\n",
       "    .dataframe tbody tr th {\n",
       "        vertical-align: top;\n",
       "    }\n",
       "\n",
       "    .dataframe thead th {\n",
       "        text-align: right;\n",
       "    }\n",
       "</style>\n",
       "<table border=\"1\" class=\"dataframe\">\n",
       "  <thead>\n",
       "    <tr style=\"text-align: right;\">\n",
       "      <th></th>\n",
       "      <th>Predicted Negative</th>\n",
       "      <th>Predicted Positive</th>\n",
       "    </tr>\n",
       "  </thead>\n",
       "  <tbody>\n",
       "    <tr>\n",
       "      <th>Actual Negative</th>\n",
       "      <td>5624</td>\n",
       "      <td>1303</td>\n",
       "    </tr>\n",
       "    <tr>\n",
       "      <th>Actual Positive</th>\n",
       "      <td>1227</td>\n",
       "      <td>846</td>\n",
       "    </tr>\n",
       "  </tbody>\n",
       "</table>\n",
       "</div>"
      ],
      "text/plain": [
       "                 Predicted Negative  Predicted Positive\n",
       "Actual Negative                5624                1303\n",
       "Actual Positive                1227                 846"
      ]
     },
     "execution_count": 112,
     "metadata": {},
     "output_type": "execute_result"
    }
   ],
   "source": [
    "con_mat_test=metrics.confusion_matrix(y_test, DT_y_test)\n",
    "confusion_matrix_df_test=pd.DataFrame(con_mat_test, index=['Actual Negative','Actual Positive'], \n",
    "                                   columns=['Predicted Negative','Predicted Positive'])\n",
    "confusion_matrix_df_test"
   ]
  },
  {
   "cell_type": "code",
   "execution_count": 113,
   "metadata": {},
   "outputs": [],
   "source": [
    "TP=con_mat_test[1,1] # true positive \n",
    "TN=con_mat_test[0,0] # true negatives\n",
    "FP=con_mat_test[0,1] # false positives\n",
    "FN=con_mat_test[1,0] # false negatives"
   ]
  },
  {
   "cell_type": "code",
   "execution_count": 114,
   "metadata": {},
   "outputs": [
    {
     "data": {
      "text/plain": [
       "{'Accuracy': 71.9,\n",
       " 'Sensitivity': 41.0,\n",
       " 'Specificity': 81.2,\n",
       " 'Precision': 39.0,\n",
       " 'False Positive Rate': 18.8}"
      ]
     },
     "execution_count": 114,
     "metadata": {},
     "output_type": "execute_result"
    }
   ],
   "source": [
    "# Check the accuracy of the model\n",
    "Accuracy_DT_test=round(100*(metrics.accuracy_score(y_test, DT_y_test)),1)\n",
    "\n",
    "# Measure the sensitivity\n",
    "Sensitivity_DT_test=round(100*TP/float(TP+FN))\n",
    "\n",
    "# Measure specificity\n",
    "Specificity_DT_test=round(100*TN/float(TN+FP),1)\n",
    "\n",
    "# Positive predictive value\n",
    "Precision_DT_test=round(100*TP/float(TP+FP))\n",
    "\n",
    "# Measure false positive rate\n",
    "FPrate_DT_test=round(100*FP/float(TN+FP),1)\n",
    "# Metrics Dictionary\n",
    "Metrics = {'Accuracy': Accuracy_DT_test, \n",
    "     'Sensitivity': Sensitivity_DT_test,\n",
    "     'Specificity': Specificity_DT_test,\n",
    "    'Precision' : Precision_DT_test,\n",
    "    'False Positive Rate': FPrate_DT_test}\n",
    "Metrics"
   ]
  },
  {
   "cell_type": "code",
   "execution_count": 115,
   "metadata": {},
   "outputs": [],
   "source": [
    "#naive bayes"
   ]
  },
  {
   "cell_type": "code",
   "execution_count": 116,
   "metadata": {},
   "outputs": [],
   "source": [
    "from sklearn.naive_bayes import GaussianNB \n",
    "NB=GaussianNB() \n",
    "NB=NB.fit(rescaled_X_train, y_train)  \n",
    "NB_y_train=NB.predict(rescaled_X_train) \n",
    "NB_y_test=NB.predict(rescaled_X_test)"
   ]
  },
  {
   "cell_type": "code",
   "execution_count": 117,
   "metadata": {},
   "outputs": [],
   "source": [
    "#metrics for train data"
   ]
  },
  {
   "cell_type": "code",
   "execution_count": 118,
   "metadata": {},
   "outputs": [
    {
     "data": {
      "text/html": [
       "<div>\n",
       "<style scoped>\n",
       "    .dataframe tbody tr th:only-of-type {\n",
       "        vertical-align: middle;\n",
       "    }\n",
       "\n",
       "    .dataframe tbody tr th {\n",
       "        vertical-align: top;\n",
       "    }\n",
       "\n",
       "    .dataframe thead th {\n",
       "        text-align: right;\n",
       "    }\n",
       "</style>\n",
       "<table border=\"1\" class=\"dataframe\">\n",
       "  <thead>\n",
       "    <tr style=\"text-align: right;\">\n",
       "      <th></th>\n",
       "      <th>Predicted Negative</th>\n",
       "      <th>Predicted Positive</th>\n",
       "    </tr>\n",
       "  </thead>\n",
       "  <tbody>\n",
       "    <tr>\n",
       "      <th>Actual Negative</th>\n",
       "      <td>9062</td>\n",
       "      <td>7375</td>\n",
       "    </tr>\n",
       "    <tr>\n",
       "      <th>Actual Positive</th>\n",
       "      <td>1187</td>\n",
       "      <td>3376</td>\n",
       "    </tr>\n",
       "  </tbody>\n",
       "</table>\n",
       "</div>"
      ],
      "text/plain": [
       "                 Predicted Negative  Predicted Positive\n",
       "Actual Negative                9062                7375\n",
       "Actual Positive                1187                3376"
      ]
     },
     "execution_count": 118,
     "metadata": {},
     "output_type": "execute_result"
    }
   ],
   "source": [
    "con_mat_train=metrics.confusion_matrix(y_train, NB_y_train)\n",
    "confusion_matrix_df_train=pd.DataFrame(con_mat_train, index=['Actual Negative','Actual Positive'], \n",
    "                                   columns=['Predicted Negative','Predicted Positive'])\n",
    "confusion_matrix_df_train"
   ]
  },
  {
   "cell_type": "code",
   "execution_count": 119,
   "metadata": {},
   "outputs": [
    {
     "data": {
      "text/plain": [
       "{'Accuracy': 59.2,\n",
       " 'Sensitivity': 74.0,\n",
       " 'Specificity': 55.1,\n",
       " 'Precision': 31.0,\n",
       " 'False Positive Rate': 44.9}"
      ]
     },
     "execution_count": 119,
     "metadata": {},
     "output_type": "execute_result"
    }
   ],
   "source": [
    "TP=con_mat_train[1,1] # true positive \n",
    "TN=con_mat_train[0,0] # true negatives\n",
    "FP=con_mat_train[0,1] # false positives\n",
    "FN=con_mat_train[1,0] # false negatives\n",
    "\n",
    "# Check the accuracy of the model\n",
    "Accuracy_NB_train=round(100*(metrics.accuracy_score(y_train, NB_y_train)),1)\n",
    "\n",
    "# Measure the sensitivity\n",
    "Sensitivity_NB_train=round(100*TP/float(TP+FN))\n",
    "\n",
    "# Measure specificity\n",
    "Specificity_NB_train=round(100*TN/float(TN+FP),1)\n",
    "\n",
    "# Positive predictive value\n",
    "Precision_NB_train=round(100*TP/float(TP+FP))\n",
    "\n",
    "# Measure false positive rate\n",
    "FPrate_NB_train=round(100*FP/float(TN+FP),1)\n",
    "# Metrics Dictionary\n",
    "Metrics = {'Accuracy': Accuracy_NB_train, \n",
    "     'Sensitivity': Sensitivity_NB_train,\n",
    "     'Specificity': Specificity_NB_train,\n",
    "    'Precision' : Precision_NB_train,\n",
    "    'False Positive Rate': FPrate_NB_train}\n",
    "Metrics"
   ]
  },
  {
   "cell_type": "code",
   "execution_count": 120,
   "metadata": {},
   "outputs": [],
   "source": [
    "#metrics for test data"
   ]
  },
  {
   "cell_type": "code",
   "execution_count": 121,
   "metadata": {},
   "outputs": [
    {
     "data": {
      "text/html": [
       "<div>\n",
       "<style scoped>\n",
       "    .dataframe tbody tr th:only-of-type {\n",
       "        vertical-align: middle;\n",
       "    }\n",
       "\n",
       "    .dataframe tbody tr th {\n",
       "        vertical-align: top;\n",
       "    }\n",
       "\n",
       "    .dataframe thead th {\n",
       "        text-align: right;\n",
       "    }\n",
       "</style>\n",
       "<table border=\"1\" class=\"dataframe\">\n",
       "  <thead>\n",
       "    <tr style=\"text-align: right;\">\n",
       "      <th></th>\n",
       "      <th>Predicted Negative</th>\n",
       "      <th>Predicted Positive</th>\n",
       "    </tr>\n",
       "  </thead>\n",
       "  <tbody>\n",
       "    <tr>\n",
       "      <th>Actual Negative</th>\n",
       "      <td>3842</td>\n",
       "      <td>3085</td>\n",
       "    </tr>\n",
       "    <tr>\n",
       "      <th>Actual Positive</th>\n",
       "      <td>520</td>\n",
       "      <td>1553</td>\n",
       "    </tr>\n",
       "  </tbody>\n",
       "</table>\n",
       "</div>"
      ],
      "text/plain": [
       "                 Predicted Negative  Predicted Positive\n",
       "Actual Negative                3842                3085\n",
       "Actual Positive                 520                1553"
      ]
     },
     "execution_count": 121,
     "metadata": {},
     "output_type": "execute_result"
    }
   ],
   "source": [
    "con_mat_test=metrics.confusion_matrix(y_test, NB_y_test)\n",
    "confusion_matrix_df_test=pd.DataFrame(con_mat_test, index=['Actual Negative','Actual Positive'], \n",
    "                                   columns=['Predicted Negative','Predicted Positive'])\n",
    "confusion_matrix_df_test"
   ]
  },
  {
   "cell_type": "code",
   "execution_count": 122,
   "metadata": {},
   "outputs": [
    {
     "data": {
      "text/plain": [
       "{'Accuracy': 59.9,\n",
       " 'Sensitivity': 75.0,\n",
       " 'Specificity': 55.5,\n",
       " 'Precision': 33.0,\n",
       " 'False Positive Rate': 44.5}"
      ]
     },
     "execution_count": 122,
     "metadata": {},
     "output_type": "execute_result"
    }
   ],
   "source": [
    "TP=con_mat_test[1,1] # true positive \n",
    "TN=con_mat_test[0,0] # true negatives\n",
    "FP=con_mat_test[0,1] # false positives\n",
    "FN=con_mat_test[1,0] # false negatives\n",
    "\n",
    "# Check the accuracy of the model\n",
    "Accuracy_NB_test=round(100*(metrics.accuracy_score(y_test, NB_y_test)),1)\n",
    "\n",
    "# Measure the sensitivity\n",
    "Sensitivity_NB_test=round(100*TP/float(TP+FN))\n",
    "\n",
    "# Measure specificity\n",
    "Specificity_NB_test=round(100*TN/float(TN+FP),1)\n",
    "\n",
    "# Positive predictive value\n",
    "Precision_NB_test=round(100*TP/float(TP+FP))\n",
    "\n",
    "# Measure false positive rate\n",
    "FPrate_NB_test=round(100*FP/float(TN+FP),1)\n",
    "# Metrics Dictionary\n",
    "Metrics = {'Accuracy': Accuracy_NB_test, \n",
    "     'Sensitivity': Sensitivity_NB_test,\n",
    "     'Specificity': Specificity_NB_test,\n",
    "    'Precision' : Precision_NB_test,\n",
    "    'False Positive Rate': FPrate_NB_test}\n",
    "Metrics"
   ]
  },
  {
   "cell_type": "code",
   "execution_count": 123,
   "metadata": {},
   "outputs": [],
   "source": [
    "#RANDOM FOREST"
   ]
  },
  {
   "cell_type": "code",
   "execution_count": 124,
   "metadata": {},
   "outputs": [],
   "source": [
    "from sklearn.ensemble import RandomForestClassifier\n",
    "num_trees=100\n",
    "max_features=15\n",
    "RF=RandomForestClassifier(n_estimators=num_trees,max_features=max_features)\n",
    "RF=RF.fit(rescaled_X_train,y_train)\n",
    "RF_y_train=RF.predict(rescaled_X_train)\n",
    "RF_y_test=RF.predict(rescaled_X_test)"
   ]
  },
  {
   "cell_type": "code",
   "execution_count": 125,
   "metadata": {},
   "outputs": [],
   "source": [
    "#metrics for train data"
   ]
  },
  {
   "cell_type": "code",
   "execution_count": 126,
   "metadata": {},
   "outputs": [
    {
     "data": {
      "text/html": [
       "<div>\n",
       "<style scoped>\n",
       "    .dataframe tbody tr th:only-of-type {\n",
       "        vertical-align: middle;\n",
       "    }\n",
       "\n",
       "    .dataframe tbody tr th {\n",
       "        vertical-align: top;\n",
       "    }\n",
       "\n",
       "    .dataframe thead th {\n",
       "        text-align: right;\n",
       "    }\n",
       "</style>\n",
       "<table border=\"1\" class=\"dataframe\">\n",
       "  <thead>\n",
       "    <tr style=\"text-align: right;\">\n",
       "      <th></th>\n",
       "      <th>Predicted Negative</th>\n",
       "      <th>Predicted Positive</th>\n",
       "    </tr>\n",
       "  </thead>\n",
       "  <tbody>\n",
       "    <tr>\n",
       "      <th>Actual Negative</th>\n",
       "      <td>16395</td>\n",
       "      <td>42</td>\n",
       "    </tr>\n",
       "    <tr>\n",
       "      <th>Actual Positive</th>\n",
       "      <td>83</td>\n",
       "      <td>4480</td>\n",
       "    </tr>\n",
       "  </tbody>\n",
       "</table>\n",
       "</div>"
      ],
      "text/plain": [
       "                 Predicted Negative  Predicted Positive\n",
       "Actual Negative               16395                  42\n",
       "Actual Positive                  83                4480"
      ]
     },
     "execution_count": 126,
     "metadata": {},
     "output_type": "execute_result"
    }
   ],
   "source": [
    "con_mat_train=metrics.confusion_matrix(y_train, RF_y_train)\n",
    "confusion_matrix_df_train=pd.DataFrame(con_mat_train, index=['Actual Negative','Actual Positive'], \n",
    "                                   columns=['Predicted Negative','Predicted Positive'])\n",
    "confusion_matrix_df_train"
   ]
  },
  {
   "cell_type": "code",
   "execution_count": 127,
   "metadata": {},
   "outputs": [
    {
     "data": {
      "text/plain": [
       "{'Accuracy': 99.4,\n",
       " 'Sensitivity': 98.0,\n",
       " 'Specificity': 99.7,\n",
       " 'Precision': 99.0,\n",
       " 'False Positive Rate': 0.3}"
      ]
     },
     "execution_count": 127,
     "metadata": {},
     "output_type": "execute_result"
    }
   ],
   "source": [
    "TP=con_mat_train[1,1] # true positive \n",
    "TN=con_mat_train[0,0] # true negatives\n",
    "FP=con_mat_train[0,1] # false positives\n",
    "FN=con_mat_train[1,0] # false negatives\n",
    "\n",
    "# Check the accuracy of the model\n",
    "Accuracy_RF_train=round(100*(metrics.accuracy_score(y_train, RF_y_train)),1)\n",
    "\n",
    "# Measure the sensitivity\n",
    "Sensitivity_RF_train=round(100*TP/float(TP+FN))\n",
    "\n",
    "# Measure specificity\n",
    "Specificity_RF_train=round(100*TN/float(TN+FP),1)\n",
    "\n",
    "# Positive predictive value\n",
    "Precision_RF_train=round(100*TP/float(TP+FP))\n",
    "\n",
    "# Measure false positive rate\n",
    "FPrate_RF_train=round(100*FP/float(TN+FP),1)\n",
    "# Metrics Dictionary\n",
    "Metrics = {'Accuracy': Accuracy_RF_train, \n",
    "     'Sensitivity': Sensitivity_RF_train,\n",
    "     'Specificity': Specificity_RF_train,\n",
    "    'Precision' : Precision_RF_train,\n",
    "    'False Positive Rate': FPrate_RF_train}\n",
    "Metrics"
   ]
  },
  {
   "cell_type": "code",
   "execution_count": 128,
   "metadata": {},
   "outputs": [],
   "source": [
    "#metrics for test data"
   ]
  },
  {
   "cell_type": "code",
   "execution_count": 129,
   "metadata": {},
   "outputs": [
    {
     "data": {
      "text/html": [
       "<div>\n",
       "<style scoped>\n",
       "    .dataframe tbody tr th:only-of-type {\n",
       "        vertical-align: middle;\n",
       "    }\n",
       "\n",
       "    .dataframe tbody tr th {\n",
       "        vertical-align: top;\n",
       "    }\n",
       "\n",
       "    .dataframe thead th {\n",
       "        text-align: right;\n",
       "    }\n",
       "</style>\n",
       "<table border=\"1\" class=\"dataframe\">\n",
       "  <thead>\n",
       "    <tr style=\"text-align: right;\">\n",
       "      <th></th>\n",
       "      <th>Predicted Negative</th>\n",
       "      <th>Predicted Positive</th>\n",
       "    </tr>\n",
       "  </thead>\n",
       "  <tbody>\n",
       "    <tr>\n",
       "      <th>Actual Negative</th>\n",
       "      <td>6503</td>\n",
       "      <td>424</td>\n",
       "    </tr>\n",
       "    <tr>\n",
       "      <th>Actual Positive</th>\n",
       "      <td>1290</td>\n",
       "      <td>783</td>\n",
       "    </tr>\n",
       "  </tbody>\n",
       "</table>\n",
       "</div>"
      ],
      "text/plain": [
       "                 Predicted Negative  Predicted Positive\n",
       "Actual Negative                6503                 424\n",
       "Actual Positive                1290                 783"
      ]
     },
     "execution_count": 129,
     "metadata": {},
     "output_type": "execute_result"
    }
   ],
   "source": [
    "con_mat_test=metrics.confusion_matrix(y_test, RF_y_test)\n",
    "confusion_matrix_df_test=pd.DataFrame(con_mat_test, index=['Actual Negative','Actual Positive'], \n",
    "                                   columns=['Predicted Negative','Predicted Positive'])\n",
    "confusion_matrix_df_test"
   ]
  },
  {
   "cell_type": "code",
   "execution_count": 130,
   "metadata": {},
   "outputs": [
    {
     "data": {
      "text/plain": [
       "{'Accuracy': 81.0,\n",
       " 'Sensitivity': 98.0,\n",
       " 'Specificity': 99.7,\n",
       " 'Precision': 99.0,\n",
       " 'False Positive Rate': 0.3}"
      ]
     },
     "execution_count": 130,
     "metadata": {},
     "output_type": "execute_result"
    }
   ],
   "source": [
    "TP=con_mat_train[1,1] # true positive \n",
    "TN=con_mat_train[0,0] # true negatives\n",
    "FP=con_mat_train[0,1] # false positives\n",
    "FN=con_mat_train[1,0] # false negatives\n",
    "\n",
    "# Check the accuracy of the model\n",
    "Accuracy_RF_test=round(100*(metrics.accuracy_score(y_test, RF_y_test)),1)\n",
    "\n",
    "# Measure the sensitivity\n",
    "Sensitivity_RF_test=round(100*TP/float(TP+FN))\n",
    "\n",
    "# Measure specificity\n",
    "Specificity_RF_test=round(100*TN/float(TN+FP),1)\n",
    "\n",
    "# Positive predictive value\n",
    "Precision_RF_test=round(100*TP/float(TP+FP))\n",
    "\n",
    "# Measure false positive rate\n",
    "FPrate_RF_test=round(100*FP/float(TN+FP),1)\n",
    "# Metrics Dictionary\n",
    "Metrics = {'Accuracy': Accuracy_RF_test, \n",
    "     'Sensitivity': Sensitivity_RF_test,\n",
    "     'Specificity': Specificity_RF_test,\n",
    "    'Precision' : Precision_RF_test,\n",
    "    'False Positive Rate': FPrate_RF_test}\n",
    "Metrics"
   ]
  },
  {
   "cell_type": "code",
   "execution_count": 131,
   "metadata": {},
   "outputs": [],
   "source": [
    "#COMPARING DIFFERENT MODELS"
   ]
  },
  {
   "cell_type": "code",
   "execution_count": 132,
   "metadata": {},
   "outputs": [
    {
     "data": {
      "text/html": [
       "<div>\n",
       "<style scoped>\n",
       "    .dataframe tbody tr th:only-of-type {\n",
       "        vertical-align: middle;\n",
       "    }\n",
       "\n",
       "    .dataframe tbody tr th {\n",
       "        vertical-align: top;\n",
       "    }\n",
       "\n",
       "    .dataframe thead th {\n",
       "        text-align: right;\n",
       "    }\n",
       "</style>\n",
       "<table border=\"1\" class=\"dataframe\">\n",
       "  <thead>\n",
       "    <tr style=\"text-align: right;\">\n",
       "      <th></th>\n",
       "      <th>Actual</th>\n",
       "      <th>Logit</th>\n",
       "      <th>Decision Tree</th>\n",
       "      <th>Naive Bayes</th>\n",
       "      <th>Regression Teees</th>\n",
       "    </tr>\n",
       "  </thead>\n",
       "  <tbody>\n",
       "    <tr>\n",
       "      <th>4636</th>\n",
       "      <td>1</td>\n",
       "      <td>0</td>\n",
       "      <td>1</td>\n",
       "      <td>0</td>\n",
       "      <td>1</td>\n",
       "    </tr>\n",
       "    <tr>\n",
       "      <th>11785</th>\n",
       "      <td>0</td>\n",
       "      <td>0</td>\n",
       "      <td>0</td>\n",
       "      <td>1</td>\n",
       "      <td>0</td>\n",
       "    </tr>\n",
       "    <tr>\n",
       "      <th>11987</th>\n",
       "      <td>1</td>\n",
       "      <td>1</td>\n",
       "      <td>1</td>\n",
       "      <td>1</td>\n",
       "      <td>1</td>\n",
       "    </tr>\n",
       "    <tr>\n",
       "      <th>11648</th>\n",
       "      <td>0</td>\n",
       "      <td>0</td>\n",
       "      <td>0</td>\n",
       "      <td>1</td>\n",
       "      <td>0</td>\n",
       "    </tr>\n",
       "    <tr>\n",
       "      <th>12890</th>\n",
       "      <td>0</td>\n",
       "      <td>0</td>\n",
       "      <td>0</td>\n",
       "      <td>0</td>\n",
       "      <td>0</td>\n",
       "    </tr>\n",
       "  </tbody>\n",
       "</table>\n",
       "</div>"
      ],
      "text/plain": [
       "       Actual  Logit  Decision Tree  Naive Bayes  Regression Teees\n",
       "4636        1      0              1            0                 1\n",
       "11785       0      0              0            1                 0\n",
       "11987       1      1              1            1                 1\n",
       "11648       0      0              0            1                 0\n",
       "12890       0      0              0            0                 0"
      ]
     },
     "execution_count": 132,
     "metadata": {},
     "output_type": "execute_result"
    }
   ],
   "source": [
    "Train_labels=pd.DataFrame({'Actual':y_train, \n",
    "                            'Logit':LR_y_train, \n",
    "                            'Decision Tree':DT_y_train, \n",
    "                            'Naive Bayes':NB_y_train,\n",
    "                          'Random Forest':RF_y_train})\n",
    "Train_labels.head()"
   ]
  },
  {
   "cell_type": "code",
   "execution_count": 133,
   "metadata": {},
   "outputs": [
    {
     "data": {
      "text/html": [
       "<div>\n",
       "<style scoped>\n",
       "    .dataframe tbody tr th:only-of-type {\n",
       "        vertical-align: middle;\n",
       "    }\n",
       "\n",
       "    .dataframe tbody tr th {\n",
       "        vertical-align: top;\n",
       "    }\n",
       "\n",
       "    .dataframe thead th {\n",
       "        text-align: right;\n",
       "    }\n",
       "</style>\n",
       "<table border=\"1\" class=\"dataframe\">\n",
       "  <thead>\n",
       "    <tr style=\"text-align: right;\">\n",
       "      <th></th>\n",
       "      <th>Actual</th>\n",
       "      <th>Logit</th>\n",
       "      <th>Decision Tree</th>\n",
       "      <th>Naive Bayes</th>\n",
       "      <th>Regression Trees</th>\n",
       "    </tr>\n",
       "  </thead>\n",
       "  <tbody>\n",
       "    <tr>\n",
       "      <th>6102</th>\n",
       "      <td>0</td>\n",
       "      <td>0</td>\n",
       "      <td>0</td>\n",
       "      <td>0</td>\n",
       "      <td>0</td>\n",
       "    </tr>\n",
       "    <tr>\n",
       "      <th>2539</th>\n",
       "      <td>0</td>\n",
       "      <td>0</td>\n",
       "      <td>0</td>\n",
       "      <td>0</td>\n",
       "      <td>0</td>\n",
       "    </tr>\n",
       "    <tr>\n",
       "      <th>21576</th>\n",
       "      <td>0</td>\n",
       "      <td>0</td>\n",
       "      <td>1</td>\n",
       "      <td>1</td>\n",
       "      <td>0</td>\n",
       "    </tr>\n",
       "    <tr>\n",
       "      <th>19574</th>\n",
       "      <td>0</td>\n",
       "      <td>0</td>\n",
       "      <td>0</td>\n",
       "      <td>0</td>\n",
       "      <td>0</td>\n",
       "    </tr>\n",
       "    <tr>\n",
       "      <th>12804</th>\n",
       "      <td>0</td>\n",
       "      <td>0</td>\n",
       "      <td>1</td>\n",
       "      <td>0</td>\n",
       "      <td>0</td>\n",
       "    </tr>\n",
       "  </tbody>\n",
       "</table>\n",
       "</div>"
      ],
      "text/plain": [
       "       Actual  Logit  Decision Tree  Naive Bayes  Regression Trees\n",
       "6102        0      0              0            0                 0\n",
       "2539        0      0              0            0                 0\n",
       "21576       0      0              1            1                 0\n",
       "19574       0      0              0            0                 0\n",
       "12804       0      0              1            0                 0"
      ]
     },
     "execution_count": 133,
     "metadata": {},
     "output_type": "execute_result"
    }
   ],
   "source": [
    "Test_labels=pd.DataFrame({'Actual':y_test, \n",
    "                          'Logit':LR_y_test, \n",
    "                          'Decision Tree':DT_y_test, \n",
    "                          'Naive Bayes':NB_y_test,\n",
    "                         'Random Forest':RF_y_test})\n",
    "Test_labels.head()"
   ]
  },
  {
   "cell_type": "code",
   "execution_count": 134,
   "metadata": {},
   "outputs": [],
   "source": [
    "# Model Accuracy for Train and Test Datasets\n",
    "Accuracy_train=[Accuracy_LR_train,Accuracy_DT_train,Accuracy_NB_train,Accuracy_RF_train]\n",
    "Accuracy_test=[Accuracy_LR_test,Accuracy_DT_test,Accuracy_NB_test,Accuracy_RF_test]\n",
    "\n",
    "# Model Sensitivity for Train and Test Datasets\n",
    "Sensitivity_train=[Sensitivity_LR_train,Sensitivity_DT_train,Sensitivity_NB_train,Sensitivity_RF_train]\n",
    "Sensitivity_test=[Sensitivity_LR_test,Sensitivity_DT_test,Sensitivity_NB_test,Sensitivity_RF_test]\n",
    "\n",
    "# Model Specificity for Train and Test Datasets\n",
    "Specificity_train=[Specificity_LR_train,Specificity_DT_train,Specificity_NB_train,Specificity_RF_train]\n",
    "Specificity_test=[Specificity_LR_test,Specificity_DT_test,Specificity_NB_test,Specificity_RF_test]\n",
    "\n",
    "# Model Precision for Train and Test Datasets\n",
    "Precision_train=[Precision_LR_train,Precision_DT_train,Precision_NB_train,Precision_RF_train]\n",
    "Precision_test=[Precision_LR_test,Precision_DT_test,Precision_NB_test,Precision_RF_test]"
   ]
  },
  {
   "cell_type": "code",
   "execution_count": 137,
   "metadata": {},
   "outputs": [
    {
     "data": {
      "text/html": [
       "<div>\n",
       "<style scoped>\n",
       "    .dataframe tbody tr th:only-of-type {\n",
       "        vertical-align: middle;\n",
       "    }\n",
       "\n",
       "    .dataframe tbody tr th {\n",
       "        vertical-align: top;\n",
       "    }\n",
       "\n",
       "    .dataframe thead th {\n",
       "        text-align: right;\n",
       "    }\n",
       "</style>\n",
       "<table border=\"1\" class=\"dataframe\">\n",
       "  <thead>\n",
       "    <tr style=\"text-align: right;\">\n",
       "      <th></th>\n",
       "      <th>Accuracy_train</th>\n",
       "      <th>Accuracy_test</th>\n",
       "      <th>Sensitivity_train</th>\n",
       "      <th>Sensitivity_test</th>\n",
       "      <th>Specificity_train</th>\n",
       "      <th>Specificity_test</th>\n",
       "      <th>Precision_train</th>\n",
       "      <th>Precision_test</th>\n",
       "    </tr>\n",
       "  </thead>\n",
       "  <tbody>\n",
       "    <tr>\n",
       "      <th>Logistic Regression</th>\n",
       "      <td>80.9</td>\n",
       "      <td>80.3</td>\n",
       "      <td>97.0</td>\n",
       "      <td>22.0</td>\n",
       "      <td>99.6</td>\n",
       "      <td>97.8</td>\n",
       "      <td>99.0</td>\n",
       "      <td>75.0</td>\n",
       "    </tr>\n",
       "    <tr>\n",
       "      <th>Decision Tree</th>\n",
       "      <td>99.4</td>\n",
       "      <td>71.9</td>\n",
       "      <td>98.0</td>\n",
       "      <td>41.0</td>\n",
       "      <td>99.9</td>\n",
       "      <td>81.2</td>\n",
       "      <td>99.0</td>\n",
       "      <td>39.0</td>\n",
       "    </tr>\n",
       "    <tr>\n",
       "      <th>Naive Bayes</th>\n",
       "      <td>59.2</td>\n",
       "      <td>59.9</td>\n",
       "      <td>74.0</td>\n",
       "      <td>75.0</td>\n",
       "      <td>55.1</td>\n",
       "      <td>55.5</td>\n",
       "      <td>31.0</td>\n",
       "      <td>33.0</td>\n",
       "    </tr>\n",
       "    <tr>\n",
       "      <th>Random Forest</th>\n",
       "      <td>99.4</td>\n",
       "      <td>81.0</td>\n",
       "      <td>98.0</td>\n",
       "      <td>98.0</td>\n",
       "      <td>99.7</td>\n",
       "      <td>99.7</td>\n",
       "      <td>99.0</td>\n",
       "      <td>99.0</td>\n",
       "    </tr>\n",
       "  </tbody>\n",
       "</table>\n",
       "</div>"
      ],
      "text/plain": [
       "                     Accuracy_train  Accuracy_test  Sensitivity_train  \\\n",
       "Logistic Regression            80.9           80.3               97.0   \n",
       "Decision Tree                  99.4           71.9               98.0   \n",
       "Naive Bayes                    59.2           59.9               74.0   \n",
       "Random Forest                  99.4           81.0               98.0   \n",
       "\n",
       "                     Sensitivity_test  Specificity_train  Specificity_test  \\\n",
       "Logistic Regression              22.0               99.6              97.8   \n",
       "Decision Tree                    41.0               99.9              81.2   \n",
       "Naive Bayes                      75.0               55.1              55.5   \n",
       "Random Forest                    98.0               99.7              99.7   \n",
       "\n",
       "                     Precision_train  Precision_test  \n",
       "Logistic Regression             99.0            75.0  \n",
       "Decision Tree                   99.0            39.0  \n",
       "Naive Bayes                     31.0            33.0  \n",
       "Random Forest                   99.0            99.0  "
      ]
     },
     "execution_count": 137,
     "metadata": {},
     "output_type": "execute_result"
    }
   ],
   "source": [
    "Model_metrics=pd.DataFrame({'Accuracy_train':Accuracy_train,\n",
    "                              'Accuracy_test':Accuracy_test,\n",
    "                              'Sensitivity_train':Sensitivity_train,\n",
    "                              'Sensitivity_test':Sensitivity_test,\n",
    "                              'Specificity_train':Specificity_train,\n",
    "                              'Specificity_test':Specificity_test,\n",
    "                              'Precision_train':Precision_train,\n",
    "                              'Precision_test':Precision_test}, \n",
    "                              index = ['Logistic Regression','Decision Tree','Naive Bayes','Random Forest'] ) \n",
    "Model_metrics"
   ]
  },
  {
   "cell_type": "code",
   "execution_count": null,
   "metadata": {},
   "outputs": [],
   "source": []
  }
 ],
 "metadata": {
  "kernelspec": {
   "display_name": "Python 3",
   "language": "python",
   "name": "python3"
  },
  "language_info": {
   "codemirror_mode": {
    "name": "ipython",
    "version": 3
   },
   "file_extension": ".py",
   "mimetype": "text/x-python",
   "name": "python",
   "nbconvert_exporter": "python",
   "pygments_lexer": "ipython3",
   "version": "3.8.5"
  }
 },
 "nbformat": 4,
 "nbformat_minor": 2
}
